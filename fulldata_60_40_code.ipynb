{
 "cells": [
  {
   "cell_type": "markdown",
   "metadata": {
    "cell_id": "5dac5da0-7c16-4afb-aa01-948264e73158",
    "deepnote_cell_height": 172.390625,
    "deepnote_cell_type": "markdown",
    "tags": []
   },
   "source": [
    "# Random forest and XGBoost model for binary black holes\n",
    "\n",
    "Fatıma Rabia Yapıcıoglu (2049536), Asal Rangraziasi(2046832),  Giulia Bellentani (2027590), Pu Yin (2005501)"
   ]
  },
  {
   "cell_type": "code",
   "execution_count": 1,
   "metadata": {
    "cell_id": "00001-c1288778-57ec-4815-b820-277c886daa95",
    "deepnote_cell_height": 423,
    "deepnote_cell_type": "code",
    "deepnote_to_be_reexecuted": false,
    "execution_millis": 4167,
    "execution_start": 1658245268979,
    "source_hash": "e7372e83",
    "tags": []
   },
   "outputs": [],
   "source": [
    "import pandas as pd\n",
    "import random\n",
    "import numpy as np\n",
    "from numpy import loadtxt\n",
    "import seaborn as sns\n",
    "import matplotlib.pyplot as plt\n",
    "import xgboost as xgb\n",
    "from xgboost import XGBClassifier\n",
    "from sklearn.utils import shuffle\n",
    "from sklearn.datasets import make_classification\n",
    "from sklearn.ensemble import RandomForestClassifier\n",
    "from sklearn.model_selection import GridSearchCV\n",
    "from sklearn.model_selection import train_test_split\n",
    "from sklearn.metrics import accuracy_score \n",
    "from sklearn.metrics import mean_squared_error\n",
    "from sklearn.metrics import classification_report\n",
    "from sklearn.metrics import confusion_matrix\n",
    "from sklearn.tree import DecisionTreeClassifier, plot_tree\n",
    "import warnings\n",
    "warnings.filterwarnings(\"ignore\")"
   ]
  },
  {
   "cell_type": "code",
   "execution_count": 2,
   "metadata": {
    "cell_id": "00002-109b7401-0a17-46aa-8ff7-475be0f13c82",
    "deepnote_cell_height": 81,
    "deepnote_cell_type": "code",
    "deepnote_to_be_reexecuted": false,
    "execution_millis": 817,
    "execution_start": 1658245273148,
    "source_hash": "645c9efb",
    "tags": []
   },
   "outputs": [],
   "source": [
    "df = pd.read_csv(\"merged_outputs.csv\")"
   ]
  },
  {
   "cell_type": "markdown",
   "metadata": {
    "cell_id": "00003-b256e107-1079-427b-861f-c28fbc749425",
    "deepnote_cell_height": 736,
    "deepnote_cell_type": "markdown",
    "tags": []
   },
   "source": [
    "#### READING OUTPUT.CSV FILE\n",
    "For binary systems the stellar properties are placed before the binary properties. The name of the stellar properties columns have a suffix _0 or _1 for the primary and secondary star, respectively. <br>\n",
    "The columns in the output csv file are:\n",
    "\n",
    "0. ID: ID of that binary system (it corresponds to its position in the input file) \n",
    "1. Name: unique identifier of the system, randomly drawn at the beginning of the evolution \n",
    "2. Mass_0: total mass of the star in Msun\n",
    "3. MHE_0: mass of the Helium core of the star in Msun\n",
    "4. MCO_0: mass of the Carbon/Oxigen core of the star in Msun\n",
    "5. Radius_0: radius of the star in Rsun \n",
    "6. RHE_0: radius of Helium core in Rsun         \n",
    "7. RCO_0: radius of the Carbon/Oxigen core in Rsun          \n",
    "8. Luminosity_0: luminosity of the star in Lsun   \n",
    "9. Temperature_0: effective temperature  of the star in Kelvin (temperature of a black body that would emit the same total amount of electromagnetic radiation.\n",
    "10. Lambda_0: unused in this project    \n",
    "11. Phase_0: SEVN stellar phase (phase of the simulation, number from 1 to 7)       \n",
    "12. PhaseBSE_0:    \n",
    "13. RemnantType_0: type of the final product of the stellar life (black hole/neutron star/white dwarf) \n",
    "14. Zams_0:    \n",
    "\n",
    "(15 - 27) Same properties for the second star \n",
    "\n",
    "28. Semimajor: orbital semimajor axis of the binary in Rsun\n",
    "29. Eccentricity: orbital eccentricity of the binary \n",
    "30. GWtime: in Myr        \n",
    "31. BWolrdtime: time elapsed in the simulations in Myr (starting always from 0)\n",
    "32. BEvent:\n"
   ]
  },
  {
   "cell_type": "code",
   "execution_count": 3,
   "metadata": {
    "cell_id": "00004-c23e412b-d00d-4410-bed1-9b806165a6e7",
    "deepnote_cell_height": 701,
    "deepnote_cell_type": "code",
    "deepnote_to_be_reexecuted": false,
    "execution_millis": 24,
    "execution_start": 1658245273977,
    "source_hash": "de1e323c",
    "tags": []
   },
   "outputs": [
    {
     "name": "stdout",
     "output_type": "stream",
     "text": [
      "<class 'pandas.core.frame.DataFrame'>\n",
      "RangeIndex: 11405940 entries, 0 to 11405939\n",
      "Data columns (total 34 columns):\n",
      " #   Column         Dtype  \n",
      "---  ------         -----  \n",
      " 0   Unnamed: 0     int64  \n",
      " 1   ID             int64  \n",
      " 2   name           object \n",
      " 3   Mass_0         float64\n",
      " 4   MHE_0          float64\n",
      " 5   MCO_0          float64\n",
      " 6   Radius_0       float64\n",
      " 7   RHE_0          float64\n",
      " 8   RCO_0          float64\n",
      " 9   Luminosity_0   float64\n",
      " 10  Temperature_0  float64\n",
      " 11  Lambda_0       float64\n",
      " 12  Phase_0        int64  \n",
      " 13  PhaseBSE_0     float64\n",
      " 14  RemnantType_0  int64  \n",
      " 15  Zams_0         float64\n",
      " 16  Mass_1         float64\n",
      " 17  MHE_1          float64\n",
      " 18  MCO_1          float64\n",
      " 19  Radius_1       float64\n",
      " 20  RHE_1          float64\n",
      " 21  RCO_1          float64\n",
      " 22  Luminosity_1   float64\n",
      " 23  Temperature_1  float64\n",
      " 24  Lambda_1       float64\n",
      " 25  Phase_1        int64  \n",
      " 26  PhaseBSE_1     float64\n",
      " 27  RemnantType_1  int64  \n",
      " 28  Zams_1         float64\n",
      " 29  Semimajor      float64\n",
      " 30  Eccentricity   float64\n",
      " 31  GWtime         float64\n",
      " 32  BWorldtime     float64\n",
      " 33  BEvent         int64  \n",
      "dtypes: float64(26), int64(7), object(1)\n",
      "memory usage: 2.9+ GB\n"
     ]
    }
   ],
   "source": [
    "df.info()"
   ]
  },
  {
   "cell_type": "code",
   "execution_count": 4,
   "metadata": {
    "cell_id": "00005-31bf9b79-8161-4186-bfc4-14769ff7870b",
    "deepnote_cell_height": 535,
    "deepnote_cell_type": "code",
    "deepnote_to_be_reexecuted": false,
    "execution_millis": 409,
    "execution_start": 1658245274020,
    "source_hash": "f88152d9",
    "tags": []
   },
   "outputs": [
    {
     "data": {
      "text/html": [
       "<div>\n",
       "<style scoped>\n",
       "    .dataframe tbody tr th:only-of-type {\n",
       "        vertical-align: middle;\n",
       "    }\n",
       "\n",
       "    .dataframe tbody tr th {\n",
       "        vertical-align: top;\n",
       "    }\n",
       "\n",
       "    .dataframe thead th {\n",
       "        text-align: right;\n",
       "    }\n",
       "</style>\n",
       "<table border=\"1\" class=\"dataframe\">\n",
       "  <thead>\n",
       "    <tr style=\"text-align: right;\">\n",
       "      <th></th>\n",
       "      <th>Unnamed: 0</th>\n",
       "      <th>ID</th>\n",
       "      <th>Mass_0</th>\n",
       "      <th>MHE_0</th>\n",
       "      <th>MCO_0</th>\n",
       "      <th>Radius_0</th>\n",
       "      <th>RHE_0</th>\n",
       "      <th>RCO_0</th>\n",
       "      <th>Luminosity_0</th>\n",
       "      <th>Temperature_0</th>\n",
       "      <th>...</th>\n",
       "      <th>Lambda_1</th>\n",
       "      <th>Phase_1</th>\n",
       "      <th>PhaseBSE_1</th>\n",
       "      <th>RemnantType_1</th>\n",
       "      <th>Zams_1</th>\n",
       "      <th>Semimajor</th>\n",
       "      <th>Eccentricity</th>\n",
       "      <th>GWtime</th>\n",
       "      <th>BWorldtime</th>\n",
       "      <th>BEvent</th>\n",
       "    </tr>\n",
       "  </thead>\n",
       "  <tbody>\n",
       "    <tr>\n",
       "      <th>count</th>\n",
       "      <td>1.140594e+07</td>\n",
       "      <td>1.140594e+07</td>\n",
       "      <td>1.101501e+07</td>\n",
       "      <td>1.101501e+07</td>\n",
       "      <td>1.101501e+07</td>\n",
       "      <td>1.101501e+07</td>\n",
       "      <td>1.101501e+07</td>\n",
       "      <td>1.101501e+07</td>\n",
       "      <td>1.101501e+07</td>\n",
       "      <td>1.101501e+07</td>\n",
       "      <td>...</td>\n",
       "      <td>3.379834e+06</td>\n",
       "      <td>1.140594e+07</td>\n",
       "      <td>1.140594e+07</td>\n",
       "      <td>1.140594e+07</td>\n",
       "      <td>1.140594e+07</td>\n",
       "      <td>8.929772e+06</td>\n",
       "      <td>8.929772e+06</td>\n",
       "      <td>8.929772e+06</td>\n",
       "      <td>1.140594e+07</td>\n",
       "      <td>1.140594e+07</td>\n",
       "    </tr>\n",
       "    <tr>\n",
       "      <th>mean</th>\n",
       "      <td>5.702970e+06</td>\n",
       "      <td>5.001094e+05</td>\n",
       "      <td>9.907307e+00</td>\n",
       "      <td>2.290187e+00</td>\n",
       "      <td>3.901745e-01</td>\n",
       "      <td>5.262284e+01</td>\n",
       "      <td>5.204316e-01</td>\n",
       "      <td>1.044170e-02</td>\n",
       "      <td>9.264498e+04</td>\n",
       "      <td>1.067243e+05</td>\n",
       "      <td>...</td>\n",
       "      <td>7.882656e-01</td>\n",
       "      <td>2.759363e+00</td>\n",
       "      <td>3.757750e+00</td>\n",
       "      <td>6.346868e-03</td>\n",
       "      <td>9.212906e+00</td>\n",
       "      <td>4.975743e+03</td>\n",
       "      <td>1.846735e-01</td>\n",
       "      <td>1.016522e+20</td>\n",
       "      <td>5.352121e+01</td>\n",
       "      <td>1.487364e+00</td>\n",
       "    </tr>\n",
       "    <tr>\n",
       "      <th>std</th>\n",
       "      <td>3.292611e+06</td>\n",
       "      <td>2.886388e+05</td>\n",
       "      <td>1.582470e+01</td>\n",
       "      <td>7.719818e+00</td>\n",
       "      <td>3.418105e+00</td>\n",
       "      <td>1.725626e+02</td>\n",
       "      <td>4.864518e+00</td>\n",
       "      <td>5.090469e-02</td>\n",
       "      <td>4.310298e+05</td>\n",
       "      <td>2.989568e+05</td>\n",
       "      <td>...</td>\n",
       "      <td>7.762265e-01</td>\n",
       "      <td>2.278677e+00</td>\n",
       "      <td>4.681663e+00</td>\n",
       "      <td>7.574085e-01</td>\n",
       "      <td>1.139680e+01</td>\n",
       "      <td>7.860896e+04</td>\n",
       "      <td>2.249166e-01</td>\n",
       "      <td>8.116165e+21</td>\n",
       "      <td>8.218948e+01</td>\n",
       "      <td>3.316219e+00</td>\n",
       "    </tr>\n",
       "    <tr>\n",
       "      <th>min</th>\n",
       "      <td>0.000000e+00</td>\n",
       "      <td>0.000000e+00</td>\n",
       "      <td>3.122491e-01</td>\n",
       "      <td>0.000000e+00</td>\n",
       "      <td>0.000000e+00</td>\n",
       "      <td>1.278428e-05</td>\n",
       "      <td>0.000000e+00</td>\n",
       "      <td>0.000000e+00</td>\n",
       "      <td>1.000000e-10</td>\n",
       "      <td>5.569800e+02</td>\n",
       "      <td>...</td>\n",
       "      <td>1.257552e-01</td>\n",
       "      <td>1.000000e+00</td>\n",
       "      <td>1.000000e+00</td>\n",
       "      <td>-1.000000e+00</td>\n",
       "      <td>3.600008e-01</td>\n",
       "      <td>2.947162e-02</td>\n",
       "      <td>0.000000e+00</td>\n",
       "      <td>2.331601e-05</td>\n",
       "      <td>0.000000e+00</td>\n",
       "      <td>-1.000000e+00</td>\n",
       "    </tr>\n",
       "    <tr>\n",
       "      <th>25%</th>\n",
       "      <td>2.851485e+06</td>\n",
       "      <td>2.501660e+05</td>\n",
       "      <td>1.193223e+00</td>\n",
       "      <td>0.000000e+00</td>\n",
       "      <td>0.000000e+00</td>\n",
       "      <td>7.079578e-03</td>\n",
       "      <td>0.000000e+00</td>\n",
       "      <td>0.000000e+00</td>\n",
       "      <td>9.024713e-02</td>\n",
       "      <td>1.541861e+04</td>\n",
       "      <td>...</td>\n",
       "      <td>5.000000e-01</td>\n",
       "      <td>1.000000e+00</td>\n",
       "      <td>1.000000e+00</td>\n",
       "      <td>0.000000e+00</td>\n",
       "      <td>3.727440e+00</td>\n",
       "      <td>2.309002e+01</td>\n",
       "      <td>7.699887e-03</td>\n",
       "      <td>1.408322e+05</td>\n",
       "      <td>1.028574e+01</td>\n",
       "      <td>0.000000e+00</td>\n",
       "    </tr>\n",
       "    <tr>\n",
       "      <th>50%</th>\n",
       "      <td>5.702970e+06</td>\n",
       "      <td>5.001290e+05</td>\n",
       "      <td>5.314675e+00</td>\n",
       "      <td>8.072019e-08</td>\n",
       "      <td>0.000000e+00</td>\n",
       "      <td>3.750035e-01</td>\n",
       "      <td>3.086640e-08</td>\n",
       "      <td>0.000000e+00</td>\n",
       "      <td>2.048564e+03</td>\n",
       "      <td>2.828194e+04</td>\n",
       "      <td>...</td>\n",
       "      <td>5.986290e-01</td>\n",
       "      <td>1.000000e+00</td>\n",
       "      <td>1.000000e+00</td>\n",
       "      <td>0.000000e+00</td>\n",
       "      <td>5.849900e+00</td>\n",
       "      <td>8.595155e+01</td>\n",
       "      <td>9.610000e-02</td>\n",
       "      <td>1.840863e+07</td>\n",
       "      <td>3.026579e+01</td>\n",
       "      <td>0.000000e+00</td>\n",
       "    </tr>\n",
       "    <tr>\n",
       "      <th>75%</th>\n",
       "      <td>8.554454e+06</td>\n",
       "      <td>7.500910e+05</td>\n",
       "      <td>1.181128e+01</td>\n",
       "      <td>1.650859e+00</td>\n",
       "      <td>0.000000e+00</td>\n",
       "      <td>9.130722e+00</td>\n",
       "      <td>2.492864e-01</td>\n",
       "      <td>0.000000e+00</td>\n",
       "      <td>2.013534e+04</td>\n",
       "      <td>6.694708e+04</td>\n",
       "      <td>...</td>\n",
       "      <td>9.989920e-01</td>\n",
       "      <td>4.000000e+00</td>\n",
       "      <td>4.000000e+00</td>\n",
       "      <td>0.000000e+00</td>\n",
       "      <td>9.730700e+00</td>\n",
       "      <td>1.297362e+03</td>\n",
       "      <td>2.753994e-01</td>\n",
       "      <td>4.115902e+11</td>\n",
       "      <td>6.352431e+01</td>\n",
       "      <td>3.000000e+00</td>\n",
       "    </tr>\n",
       "    <tr>\n",
       "      <th>max</th>\n",
       "      <td>1.140594e+07</td>\n",
       "      <td>9.999990e+05</td>\n",
       "      <td>2.967587e+02</td>\n",
       "      <td>2.166298e+02</td>\n",
       "      <td>1.991020e+02</td>\n",
       "      <td>2.366384e+03</td>\n",
       "      <td>1.367179e+02</td>\n",
       "      <td>1.413096e+00</td>\n",
       "      <td>1.275851e+07</td>\n",
       "      <td>6.756760e+06</td>\n",
       "      <td>...</td>\n",
       "      <td>1.000000e+02</td>\n",
       "      <td>7.000000e+00</td>\n",
       "      <td>1.500000e+01</td>\n",
       "      <td>6.000000e+00</td>\n",
       "      <td>1.490212e+02</td>\n",
       "      <td>1.244851e+08</td>\n",
       "      <td>9.999964e-01</td>\n",
       "      <td>2.230152e+25</td>\n",
       "      <td>8.727068e+02</td>\n",
       "      <td>1.700000e+01</td>\n",
       "    </tr>\n",
       "  </tbody>\n",
       "</table>\n",
       "<p>8 rows × 33 columns</p>\n",
       "</div>"
      ],
      "text/plain": [
       "         Unnamed: 0            ID        Mass_0         MHE_0         MCO_0  \\\n",
       "count  1.140594e+07  1.140594e+07  1.101501e+07  1.101501e+07  1.101501e+07   \n",
       "mean   5.702970e+06  5.001094e+05  9.907307e+00  2.290187e+00  3.901745e-01   \n",
       "std    3.292611e+06  2.886388e+05  1.582470e+01  7.719818e+00  3.418105e+00   \n",
       "min    0.000000e+00  0.000000e+00  3.122491e-01  0.000000e+00  0.000000e+00   \n",
       "25%    2.851485e+06  2.501660e+05  1.193223e+00  0.000000e+00  0.000000e+00   \n",
       "50%    5.702970e+06  5.001290e+05  5.314675e+00  8.072019e-08  0.000000e+00   \n",
       "75%    8.554454e+06  7.500910e+05  1.181128e+01  1.650859e+00  0.000000e+00   \n",
       "max    1.140594e+07  9.999990e+05  2.967587e+02  2.166298e+02  1.991020e+02   \n",
       "\n",
       "           Radius_0         RHE_0         RCO_0  Luminosity_0  Temperature_0  \\\n",
       "count  1.101501e+07  1.101501e+07  1.101501e+07  1.101501e+07   1.101501e+07   \n",
       "mean   5.262284e+01  5.204316e-01  1.044170e-02  9.264498e+04   1.067243e+05   \n",
       "std    1.725626e+02  4.864518e+00  5.090469e-02  4.310298e+05   2.989568e+05   \n",
       "min    1.278428e-05  0.000000e+00  0.000000e+00  1.000000e-10   5.569800e+02   \n",
       "25%    7.079578e-03  0.000000e+00  0.000000e+00  9.024713e-02   1.541861e+04   \n",
       "50%    3.750035e-01  3.086640e-08  0.000000e+00  2.048564e+03   2.828194e+04   \n",
       "75%    9.130722e+00  2.492864e-01  0.000000e+00  2.013534e+04   6.694708e+04   \n",
       "max    2.366384e+03  1.367179e+02  1.413096e+00  1.275851e+07   6.756760e+06   \n",
       "\n",
       "       ...      Lambda_1       Phase_1    PhaseBSE_1  RemnantType_1  \\\n",
       "count  ...  3.379834e+06  1.140594e+07  1.140594e+07   1.140594e+07   \n",
       "mean   ...  7.882656e-01  2.759363e+00  3.757750e+00   6.346868e-03   \n",
       "std    ...  7.762265e-01  2.278677e+00  4.681663e+00   7.574085e-01   \n",
       "min    ...  1.257552e-01  1.000000e+00  1.000000e+00  -1.000000e+00   \n",
       "25%    ...  5.000000e-01  1.000000e+00  1.000000e+00   0.000000e+00   \n",
       "50%    ...  5.986290e-01  1.000000e+00  1.000000e+00   0.000000e+00   \n",
       "75%    ...  9.989920e-01  4.000000e+00  4.000000e+00   0.000000e+00   \n",
       "max    ...  1.000000e+02  7.000000e+00  1.500000e+01   6.000000e+00   \n",
       "\n",
       "             Zams_1     Semimajor  Eccentricity        GWtime    BWorldtime  \\\n",
       "count  1.140594e+07  8.929772e+06  8.929772e+06  8.929772e+06  1.140594e+07   \n",
       "mean   9.212906e+00  4.975743e+03  1.846735e-01  1.016522e+20  5.352121e+01   \n",
       "std    1.139680e+01  7.860896e+04  2.249166e-01  8.116165e+21  8.218948e+01   \n",
       "min    3.600008e-01  2.947162e-02  0.000000e+00  2.331601e-05  0.000000e+00   \n",
       "25%    3.727440e+00  2.309002e+01  7.699887e-03  1.408322e+05  1.028574e+01   \n",
       "50%    5.849900e+00  8.595155e+01  9.610000e-02  1.840863e+07  3.026579e+01   \n",
       "75%    9.730700e+00  1.297362e+03  2.753994e-01  4.115902e+11  6.352431e+01   \n",
       "max    1.490212e+02  1.244851e+08  9.999964e-01  2.230152e+25  8.727068e+02   \n",
       "\n",
       "             BEvent  \n",
       "count  1.140594e+07  \n",
       "mean   1.487364e+00  \n",
       "std    3.316219e+00  \n",
       "min   -1.000000e+00  \n",
       "25%    0.000000e+00  \n",
       "50%    0.000000e+00  \n",
       "75%    3.000000e+00  \n",
       "max    1.700000e+01  \n",
       "\n",
       "[8 rows x 33 columns]"
      ]
     },
     "execution_count": 4,
     "metadata": {},
     "output_type": "execute_result"
    }
   ],
   "source": [
    "df.describe()"
   ]
  },
  {
   "cell_type": "markdown",
   "metadata": {
    "cell_id": "00006-6cf5dac5-8c31-46de-875b-40e0a6f014eb",
    "deepnote_cell_height": 70,
    "deepnote_cell_type": "markdown",
    "tags": []
   },
   "source": [
    "## DATA PREPROCESSING"
   ]
  },
  {
   "cell_type": "markdown",
   "metadata": {
    "cell_id": "00007-bd444800-90bb-44ae-bf7f-70c1d8fb982b",
    "deepnote_cell_height": 74.796875,
    "deepnote_cell_type": "markdown",
    "tags": []
   },
   "source": [
    "First of all, we keep only the phase 7 of the simulation, when the two stars have become remnants.\n",
    "A remnant is the final product of the stellar life: it could be a black hole, a neutron star or a white dwarf. \n"
   ]
  },
  {
   "cell_type": "code",
   "execution_count": 5,
   "metadata": {
    "cell_id": "00008-df10648f-7098-4113-a1fe-095b2526f091",
    "deepnote_cell_height": 276.1875,
    "deepnote_cell_type": "code",
    "deepnote_output_heights": [
     21.1875
    ],
    "deepnote_to_be_reexecuted": false,
    "execution_millis": 4,
    "execution_start": 1658245274471,
    "source_hash": "8e9db79a",
    "tags": []
   },
   "outputs": [
    {
     "data": {
      "text/plain": [
       "11405940"
      ]
     },
     "metadata": {},
     "output_type": "display_data"
    },
    {
     "name": "stdout",
     "output_type": "stream",
     "text": [
      "Number of first star remnant rows: 11405940\n",
      "Number of second star remnant rows: 11405940\n",
      "Number of systems in which both stars are now remnants: 836441\n"
     ]
    }
   ],
   "source": [
    "display(len(df['Phase_0']==7))\n",
    "df_7 = df[(df['Phase_0']==7) & (df['Phase_1']==7)]\n",
    "print('Number of first star remnant rows:', len(df['Phase_0']==7))\n",
    "print('Number of second star remnant rows:', len(df['Phase_1']==7))\n",
    "print('Number of systems in which both stars are now remnants:', len(df_7))"
   ]
  },
  {
   "cell_type": "markdown",
   "metadata": {
    "cell_id": "00009-64d6672e-99a9-45b3-ae42-3d2b66f1f172",
    "deepnote_cell_height": 52.390625,
    "deepnote_cell_type": "markdown",
    "tags": []
   },
   "source": [
    "Then we select the first row and the last row of the dataframe, creating two different subdataframes. "
   ]
  },
  {
   "cell_type": "code",
   "execution_count": 6,
   "metadata": {
    "cell_id": "00010-895da00e-065a-4bf4-81d7-a669ddd4ae9a",
    "deepnote_cell_height": 99,
    "deepnote_cell_type": "code",
    "deepnote_to_be_reexecuted": false,
    "execution_millis": 42,
    "execution_start": 1658245274473,
    "source_hash": "69d30f77",
    "tags": []
   },
   "outputs": [],
   "source": [
    "new_df_initial = df_7.groupby('ID').first().reset_index()\n",
    "new_df_last = df_7.groupby('ID').last().reset_index()"
   ]
  },
  {
   "cell_type": "markdown",
   "metadata": {
    "cell_id": "00011-4f946929-bb66-4ff4-aa49-601bcefb4337",
    "deepnote_cell_height": 97.1875,
    "deepnote_cell_type": "markdown",
    "tags": []
   },
   "source": [
    "The \"new_df_last\" dataframe is useful to create the final \"merging/non merging\" label that will be appended to the \"new_df_initial\" dataframe as its new last column. Selecting only the rows with RemnantType_0 and RemnantType_1 both equal to 6 keeps only the binary systems finally composed by two black holes (a binary black hole -BBH-)."
   ]
  },
  {
   "cell_type": "code",
   "execution_count": 7,
   "metadata": {
    "cell_id": "00012-12c39550-1079-4e14-a75c-457d844c45ca",
    "deepnote_cell_height": 222,
    "deepnote_cell_type": "code",
    "deepnote_to_be_reexecuted": false,
    "execution_millis": 2,
    "execution_start": 1658245274516,
    "source_hash": "94d35d89",
    "tags": []
   },
   "outputs": [
    {
     "name": "stdout",
     "output_type": "stream",
     "text": [
      "Number of binary black holes: 43617\n",
      "Number of systems of a different kind: 792824\n"
     ]
    }
   ],
   "source": [
    "new_df_last.loc[ (new_df_last['RemnantType_0'] == 6) & (new_df_last['RemnantType_1'] == 6), 'bbh' ]=1\n",
    "new_df_last.loc[ (new_df_last['RemnantType_0'] != 6) | (new_df_last['RemnantType_1'] != 6), 'bbh' ]=0\n",
    "\n",
    "print('Number of binary black holes:', len(new_df_last[new_df_last['bbh']==1]))\n",
    "print('Number of systems of a different kind:', len(new_df_last[new_df_last['bbh']==0]))\n"
   ]
  },
  {
   "cell_type": "markdown",
   "metadata": {
    "cell_id": "00013-7e8abdcf-d4ee-48e5-88fa-d0ee34c6791b",
    "deepnote_cell_height": 119.59375,
    "deepnote_cell_type": "markdown",
    "tags": []
   },
   "source": [
    "This is the last step to create the label: the \"GWtime\" column value for that row should be less that the lifetime of the universe in Myr (13700.0 Myr). This means that that BBH is able to merge in due time. <br>\n",
    "The column values above this threshold and the column values equal to Nan are instead linked to non merging systems: the first ones are too slow, the second ones are not a BBH anymore at the end of the simulation."
   ]
  },
  {
   "cell_type": "code",
   "execution_count": 8,
   "metadata": {
    "cell_id": "00014-c90717e1-22ef-402b-a4c3-31dd7560f81b",
    "deepnote_cell_height": 242,
    "deepnote_cell_type": "code",
    "deepnote_to_be_reexecuted": false,
    "execution_millis": 44,
    "execution_start": 1658245274517,
    "source_hash": "7b1e988d",
    "tags": []
   },
   "outputs": [
    {
     "name": "stdout",
     "output_type": "stream",
     "text": [
      "Number of merging systems: 36858\n",
      "Number of non merging systems: 799583\n",
      "Number of Nans check: 0\n"
     ]
    }
   ],
   "source": [
    "new_df_last['mrg/nonmrg'] = 0\n",
    "new_df_last.loc[ new_df_last['GWtime']  < 13700.0 , 'mrg/nonmrg' ]=1 #merging\n",
    "\n",
    "print('Number of merging systems:', len(new_df_last[new_df_last['mrg/nonmrg']==1]))\n",
    "print('Number of non merging systems:', len(new_df_last[new_df_last['mrg/nonmrg']==0]))\n",
    "print('Number of Nans check:',new_df_last['mrg/nonmrg'].isna().values.sum())"
   ]
  },
  {
   "cell_type": "markdown",
   "metadata": {
    "cell_id": "00015-61a744a0-db52-4ef1-84fc-935fb29eef07",
    "deepnote_cell_height": 74.796875,
    "deepnote_cell_type": "markdown",
    "tags": []
   },
   "source": [
    "Here we append the \"mrg/nonmrg\" labels obtained from the \"new_df_last\" dataframe to the \"new_df_initial\" dataframe. We decided to discard all the systems that are not BBH."
   ]
  },
  {
   "cell_type": "code",
   "execution_count": 9,
   "metadata": {
    "cell_id": "00016-2a8c838c-ef74-47ec-8c14-7fceb43392fc",
    "deepnote_cell_height": 135,
    "deepnote_cell_type": "code",
    "deepnote_to_be_reexecuted": false,
    "execution_millis": 0,
    "execution_start": 1658245274560,
    "source_hash": "1b985a6a",
    "tags": []
   },
   "outputs": [],
   "source": [
    "labels = new_df_last.loc[:,['mrg/nonmrg','bbh']]\n",
    "final_data = pd.concat([new_df_initial, labels], axis=1)\n",
    "final_data_bbh = final_data[final_data['bbh']==1]\n",
    "final_data_bbh.drop(columns=\"bbh\", inplace=True)"
   ]
  },
  {
   "cell_type": "markdown",
   "metadata": {
    "cell_id": "00017-9e0d507d-9f73-4864-a75c-b7efa4f7e6e7",
    "deepnote_cell_height": 52.390625,
    "deepnote_cell_type": "markdown",
    "tags": []
   },
   "source": [
    "Now we have the final dataframe (\"final_data_bbh\"), the one that we will give to the machine learning algorithms."
   ]
  },
  {
   "cell_type": "code",
   "execution_count": 10,
   "metadata": {
    "cell_id": "00018-3d11962e-2618-4885-a710-2c3e362fac0d",
    "deepnote_cell_height": 616.796875,
    "deepnote_cell_type": "code",
    "deepnote_to_be_reexecuted": false,
    "execution_millis": 910,
    "execution_start": 1658245274591,
    "source_hash": "5bf760e1",
    "tags": []
   },
   "outputs": [
    {
     "data": {
      "text/html": [
       "<div>\n",
       "<style scoped>\n",
       "    .dataframe tbody tr th:only-of-type {\n",
       "        vertical-align: middle;\n",
       "    }\n",
       "\n",
       "    .dataframe tbody tr th {\n",
       "        vertical-align: top;\n",
       "    }\n",
       "\n",
       "    .dataframe thead th {\n",
       "        text-align: right;\n",
       "    }\n",
       "</style>\n",
       "<table border=\"1\" class=\"dataframe\">\n",
       "  <thead>\n",
       "    <tr style=\"text-align: right;\">\n",
       "      <th></th>\n",
       "      <th>ID</th>\n",
       "      <th>Unnamed: 0</th>\n",
       "      <th>name</th>\n",
       "      <th>Mass_0</th>\n",
       "      <th>MHE_0</th>\n",
       "      <th>MCO_0</th>\n",
       "      <th>Radius_0</th>\n",
       "      <th>RHE_0</th>\n",
       "      <th>RCO_0</th>\n",
       "      <th>Luminosity_0</th>\n",
       "      <th>...</th>\n",
       "      <th>Phase_1</th>\n",
       "      <th>PhaseBSE_1</th>\n",
       "      <th>RemnantType_1</th>\n",
       "      <th>Zams_1</th>\n",
       "      <th>Semimajor</th>\n",
       "      <th>Eccentricity</th>\n",
       "      <th>GWtime</th>\n",
       "      <th>BWorldtime</th>\n",
       "      <th>BEvent</th>\n",
       "      <th>mrg/nonmrg</th>\n",
       "    </tr>\n",
       "  </thead>\n",
       "  <tbody>\n",
       "    <tr>\n",
       "      <th>17</th>\n",
       "      <td>22</td>\n",
       "      <td>6845413</td>\n",
       "      <td>0_176896908826503</td>\n",
       "      <td>22.83387</td>\n",
       "      <td>0.0</td>\n",
       "      <td>0.0</td>\n",
       "      <td>0.000097</td>\n",
       "      <td>0.0</td>\n",
       "      <td>0.0</td>\n",
       "      <td>1.000000e-10</td>\n",
       "      <td>...</td>\n",
       "      <td>7</td>\n",
       "      <td>14.0</td>\n",
       "      <td>6</td>\n",
       "      <td>34.458750</td>\n",
       "      <td>20.48373</td>\n",
       "      <td>0.010823</td>\n",
       "      <td>8.870617e+02</td>\n",
       "      <td>4.021467</td>\n",
       "      <td>0</td>\n",
       "      <td>1</td>\n",
       "    </tr>\n",
       "    <tr>\n",
       "      <th>94</th>\n",
       "      <td>116</td>\n",
       "      <td>6846412</td>\n",
       "      <td>0_657068005842330</td>\n",
       "      <td>16.03915</td>\n",
       "      <td>0.0</td>\n",
       "      <td>0.0</td>\n",
       "      <td>0.000068</td>\n",
       "      <td>0.0</td>\n",
       "      <td>0.0</td>\n",
       "      <td>1.000000e-10</td>\n",
       "      <td>...</td>\n",
       "      <td>7</td>\n",
       "      <td>14.0</td>\n",
       "      <td>6</td>\n",
       "      <td>13.334920</td>\n",
       "      <td>210.22390</td>\n",
       "      <td>0.136709</td>\n",
       "      <td>9.331661e+07</td>\n",
       "      <td>8.521450</td>\n",
       "      <td>0</td>\n",
       "      <td>0</td>\n",
       "    </tr>\n",
       "    <tr>\n",
       "      <th>108</th>\n",
       "      <td>132</td>\n",
       "      <td>6846595</td>\n",
       "      <td>0_550951566446625</td>\n",
       "      <td>30.79572</td>\n",
       "      <td>0.0</td>\n",
       "      <td>0.0</td>\n",
       "      <td>0.000131</td>\n",
       "      <td>0.0</td>\n",
       "      <td>0.0</td>\n",
       "      <td>1.000000e-10</td>\n",
       "      <td>...</td>\n",
       "      <td>7</td>\n",
       "      <td>14.0</td>\n",
       "      <td>6</td>\n",
       "      <td>23.486700</td>\n",
       "      <td>9069.38900</td>\n",
       "      <td>0.299891</td>\n",
       "      <td>1.975471e+13</td>\n",
       "      <td>7.781825</td>\n",
       "      <td>0</td>\n",
       "      <td>0</td>\n",
       "    </tr>\n",
       "    <tr>\n",
       "      <th>117</th>\n",
       "      <td>141</td>\n",
       "      <td>6846721</td>\n",
       "      <td>0_770606230539095</td>\n",
       "      <td>21.46868</td>\n",
       "      <td>0.0</td>\n",
       "      <td>0.0</td>\n",
       "      <td>0.000091</td>\n",
       "      <td>0.0</td>\n",
       "      <td>0.0</td>\n",
       "      <td>1.000000e-10</td>\n",
       "      <td>...</td>\n",
       "      <td>7</td>\n",
       "      <td>14.0</td>\n",
       "      <td>6</td>\n",
       "      <td>36.171270</td>\n",
       "      <td>35.10415</td>\n",
       "      <td>0.007964</td>\n",
       "      <td>7.802381e+03</td>\n",
       "      <td>4.307154</td>\n",
       "      <td>0</td>\n",
       "      <td>1</td>\n",
       "    </tr>\n",
       "    <tr>\n",
       "      <th>121</th>\n",
       "      <td>148</td>\n",
       "      <td>6846782</td>\n",
       "      <td>0_663735736747492</td>\n",
       "      <td>11.95312</td>\n",
       "      <td>0.0</td>\n",
       "      <td>0.0</td>\n",
       "      <td>0.000051</td>\n",
       "      <td>0.0</td>\n",
       "      <td>0.0</td>\n",
       "      <td>1.000000e-10</td>\n",
       "      <td>...</td>\n",
       "      <td>7</td>\n",
       "      <td>14.0</td>\n",
       "      <td>6</td>\n",
       "      <td>10.859440</td>\n",
       "      <td>127.73930</td>\n",
       "      <td>0.176603</td>\n",
       "      <td>2.959608e+07</td>\n",
       "      <td>7.662994</td>\n",
       "      <td>0</td>\n",
       "      <td>0</td>\n",
       "    </tr>\n",
       "    <tr>\n",
       "      <th>138</th>\n",
       "      <td>166</td>\n",
       "      <td>6847010</td>\n",
       "      <td>0_128178925369444</td>\n",
       "      <td>12.46999</td>\n",
       "      <td>0.0</td>\n",
       "      <td>0.0</td>\n",
       "      <td>0.000053</td>\n",
       "      <td>0.0</td>\n",
       "      <td>0.0</td>\n",
       "      <td>1.000000e-10</td>\n",
       "      <td>...</td>\n",
       "      <td>7</td>\n",
       "      <td>14.0</td>\n",
       "      <td>6</td>\n",
       "      <td>9.493662</td>\n",
       "      <td>141.88190</td>\n",
       "      <td>0.024428</td>\n",
       "      <td>2.969498e+07</td>\n",
       "      <td>8.735236</td>\n",
       "      <td>0</td>\n",
       "      <td>0</td>\n",
       "    </tr>\n",
       "    <tr>\n",
       "      <th>140</th>\n",
       "      <td>169</td>\n",
       "      <td>6847044</td>\n",
       "      <td>0_269541901132273</td>\n",
       "      <td>15.13629</td>\n",
       "      <td>0.0</td>\n",
       "      <td>0.0</td>\n",
       "      <td>0.000064</td>\n",
       "      <td>0.0</td>\n",
       "      <td>0.0</td>\n",
       "      <td>1.000000e-10</td>\n",
       "      <td>...</td>\n",
       "      <td>7</td>\n",
       "      <td>14.0</td>\n",
       "      <td>6</td>\n",
       "      <td>21.497050</td>\n",
       "      <td>160.23690</td>\n",
       "      <td>0.199951</td>\n",
       "      <td>1.089868e+07</td>\n",
       "      <td>5.920945</td>\n",
       "      <td>0</td>\n",
       "      <td>0</td>\n",
       "    </tr>\n",
       "    <tr>\n",
       "      <th>145</th>\n",
       "      <td>174</td>\n",
       "      <td>6847127</td>\n",
       "      <td>0_267690239111620</td>\n",
       "      <td>30.16701</td>\n",
       "      <td>0.0</td>\n",
       "      <td>0.0</td>\n",
       "      <td>0.000128</td>\n",
       "      <td>0.0</td>\n",
       "      <td>0.0</td>\n",
       "      <td>1.000000e-10</td>\n",
       "      <td>...</td>\n",
       "      <td>7</td>\n",
       "      <td>14.0</td>\n",
       "      <td>6</td>\n",
       "      <td>31.424790</td>\n",
       "      <td>150.07260</td>\n",
       "      <td>0.207694</td>\n",
       "      <td>1.657209e+06</td>\n",
       "      <td>4.371454</td>\n",
       "      <td>0</td>\n",
       "      <td>0</td>\n",
       "    </tr>\n",
       "    <tr>\n",
       "      <th>150</th>\n",
       "      <td>179</td>\n",
       "      <td>6847210</td>\n",
       "      <td>0_141004598564401</td>\n",
       "      <td>33.17828</td>\n",
       "      <td>0.0</td>\n",
       "      <td>0.0</td>\n",
       "      <td>0.000141</td>\n",
       "      <td>0.0</td>\n",
       "      <td>0.0</td>\n",
       "      <td>1.000000e-10</td>\n",
       "      <td>...</td>\n",
       "      <td>7</td>\n",
       "      <td>14.0</td>\n",
       "      <td>6</td>\n",
       "      <td>78.069400</td>\n",
       "      <td>163306.00000</td>\n",
       "      <td>0.242915</td>\n",
       "      <td>8.276018e+17</td>\n",
       "      <td>3.432118</td>\n",
       "      <td>0</td>\n",
       "      <td>0</td>\n",
       "    </tr>\n",
       "    <tr>\n",
       "      <th>152</th>\n",
       "      <td>181</td>\n",
       "      <td>6847241</td>\n",
       "      <td>0_786680202494961</td>\n",
       "      <td>17.90454</td>\n",
       "      <td>0.0</td>\n",
       "      <td>0.0</td>\n",
       "      <td>0.000076</td>\n",
       "      <td>0.0</td>\n",
       "      <td>0.0</td>\n",
       "      <td>1.000000e-10</td>\n",
       "      <td>...</td>\n",
       "      <td>7</td>\n",
       "      <td>14.0</td>\n",
       "      <td>6</td>\n",
       "      <td>14.581130</td>\n",
       "      <td>67.46797</td>\n",
       "      <td>0.060981</td>\n",
       "      <td>6.825432e+05</td>\n",
       "      <td>7.267396</td>\n",
       "      <td>0</td>\n",
       "      <td>0</td>\n",
       "    </tr>\n",
       "  </tbody>\n",
       "</table>\n",
       "<p>10 rows × 35 columns</p>\n",
       "</div>"
      ],
      "text/plain": [
       "      ID  Unnamed: 0               name    Mass_0  MHE_0  MCO_0  Radius_0  \\\n",
       "17    22     6845413  0_176896908826503  22.83387    0.0    0.0  0.000097   \n",
       "94   116     6846412  0_657068005842330  16.03915    0.0    0.0  0.000068   \n",
       "108  132     6846595  0_550951566446625  30.79572    0.0    0.0  0.000131   \n",
       "117  141     6846721  0_770606230539095  21.46868    0.0    0.0  0.000091   \n",
       "121  148     6846782  0_663735736747492  11.95312    0.0    0.0  0.000051   \n",
       "138  166     6847010  0_128178925369444  12.46999    0.0    0.0  0.000053   \n",
       "140  169     6847044  0_269541901132273  15.13629    0.0    0.0  0.000064   \n",
       "145  174     6847127  0_267690239111620  30.16701    0.0    0.0  0.000128   \n",
       "150  179     6847210  0_141004598564401  33.17828    0.0    0.0  0.000141   \n",
       "152  181     6847241  0_786680202494961  17.90454    0.0    0.0  0.000076   \n",
       "\n",
       "     RHE_0  RCO_0  Luminosity_0  ...  Phase_1  PhaseBSE_1  RemnantType_1  \\\n",
       "17     0.0    0.0  1.000000e-10  ...        7        14.0              6   \n",
       "94     0.0    0.0  1.000000e-10  ...        7        14.0              6   \n",
       "108    0.0    0.0  1.000000e-10  ...        7        14.0              6   \n",
       "117    0.0    0.0  1.000000e-10  ...        7        14.0              6   \n",
       "121    0.0    0.0  1.000000e-10  ...        7        14.0              6   \n",
       "138    0.0    0.0  1.000000e-10  ...        7        14.0              6   \n",
       "140    0.0    0.0  1.000000e-10  ...        7        14.0              6   \n",
       "145    0.0    0.0  1.000000e-10  ...        7        14.0              6   \n",
       "150    0.0    0.0  1.000000e-10  ...        7        14.0              6   \n",
       "152    0.0    0.0  1.000000e-10  ...        7        14.0              6   \n",
       "\n",
       "        Zams_1     Semimajor  Eccentricity        GWtime  BWorldtime  BEvent  \\\n",
       "17   34.458750      20.48373      0.010823  8.870617e+02    4.021467       0   \n",
       "94   13.334920     210.22390      0.136709  9.331661e+07    8.521450       0   \n",
       "108  23.486700    9069.38900      0.299891  1.975471e+13    7.781825       0   \n",
       "117  36.171270      35.10415      0.007964  7.802381e+03    4.307154       0   \n",
       "121  10.859440     127.73930      0.176603  2.959608e+07    7.662994       0   \n",
       "138   9.493662     141.88190      0.024428  2.969498e+07    8.735236       0   \n",
       "140  21.497050     160.23690      0.199951  1.089868e+07    5.920945       0   \n",
       "145  31.424790     150.07260      0.207694  1.657209e+06    4.371454       0   \n",
       "150  78.069400  163306.00000      0.242915  8.276018e+17    3.432118       0   \n",
       "152  14.581130      67.46797      0.060981  6.825432e+05    7.267396       0   \n",
       "\n",
       "     mrg/nonmrg  \n",
       "17            1  \n",
       "94            0  \n",
       "108           0  \n",
       "117           1  \n",
       "121           0  \n",
       "138           0  \n",
       "140           0  \n",
       "145           0  \n",
       "150           0  \n",
       "152           0  \n",
       "\n",
       "[10 rows x 35 columns]"
      ]
     },
     "execution_count": 10,
     "metadata": {},
     "output_type": "execute_result"
    }
   ],
   "source": [
    "final_data_bbh.head(10)"
   ]
  },
  {
   "cell_type": "code",
   "execution_count": 11,
   "metadata": {
    "cell_id": "00019-521d6c65-17a3-48ec-874b-ad46fbe5bd15",
    "deepnote_cell_height": 233.375,
    "deepnote_cell_type": "code",
    "deepnote_output_heights": [
     136.390625
    ],
    "deepnote_to_be_reexecuted": false,
    "execution_millis": 2963439,
    "execution_start": 1658245274665,
    "source_hash": "fe790b97",
    "tags": []
   },
   "outputs": [
    {
     "data": {
      "text/plain": [
       "Index(['ID', 'Unnamed: 0', 'name', 'Mass_0', 'MHE_0', 'MCO_0', 'Radius_0',\n",
       "       'RHE_0', 'RCO_0', 'Luminosity_0', 'Temperature_0', 'Lambda_0',\n",
       "       'Phase_0', 'PhaseBSE_0', 'RemnantType_0', 'Zams_0', 'Mass_1', 'MHE_1',\n",
       "       'MCO_1', 'Radius_1', 'RHE_1', 'RCO_1', 'Luminosity_1', 'Temperature_1',\n",
       "       'Lambda_1', 'Phase_1', 'PhaseBSE_1', 'RemnantType_1', 'Zams_1',\n",
       "       'Semimajor', 'Eccentricity', 'GWtime', 'BWorldtime', 'BEvent',\n",
       "       'mrg/nonmrg'],\n",
       "      dtype='object')"
      ]
     },
     "execution_count": 11,
     "metadata": {},
     "output_type": "execute_result"
    }
   ],
   "source": [
    "final_data_bbh.columns"
   ]
  },
  {
   "cell_type": "markdown",
   "metadata": {
    "cell_id": "00020-4027c5e9-32e0-4dab-9880-ac11a32a256e",
    "deepnote_cell_height": 130.796875,
    "deepnote_cell_type": "markdown",
    "tags": []
   },
   "source": [
    "## HEATMAP\n",
    "Before running the algorithms, we plot a heatmap with the aim to get a glimpse of the eventual direct or inverse correlations between some of the involved parameters. "
   ]
  },
  {
   "cell_type": "code",
   "execution_count": 12,
   "metadata": {
    "cell_id": "00021-55caba63-6965-41fc-adea-95f14060c890",
    "deepnote_cell_height": 81,
    "deepnote_cell_type": "code",
    "deepnote_to_be_reexecuted": false,
    "execution_millis": 791,
    "execution_start": 1658245274711,
    "source_hash": "b765848f",
    "tags": []
   },
   "outputs": [],
   "source": [
    "heatmap_data = final_data_bbh.loc[:,['Mass_0', 'Mass_1', 'Radius_0', 'Radius_1', 'Zams_0', 'Zams_1', 'Semimajor', 'Eccentricity', 'GWtime', 'mrg/nonmrg']]"
   ]
  },
  {
   "cell_type": "code",
   "execution_count": 13,
   "metadata": {
    "cell_id": "00022-32ed87bf-cefa-4f5c-8cca-2cfbb78928ee",
    "deepnote_cell_height": 726,
    "deepnote_cell_type": "code",
    "deepnote_output_heights": [
     611
    ],
    "deepnote_to_be_reexecuted": false,
    "execution_millis": 1191,
    "execution_start": 1658245274713,
    "source_hash": "a92f6e02",
    "tags": []
   },
   "outputs": [
    {
     "data": {
      "image/png": "[encoded data removed]",
      "text/plain": [
       "<Figure size 1152x1152 with 2 Axes>"
      ]
     },
     "metadata": {
      "needs_background": "light"
     },
     "output_type": "display_data"
    }
   ],
   "source": [
    "plt.figure(figsize=(16, 16))\n",
    "sns.heatmap(heatmap_data.corr(),annot=True);"
   ]
  },
  {
   "cell_type": "code",
   "execution_count": 14,
   "metadata": {
    "cell_id": "00023-2c5b4f5a-897c-40e3-8550-6e49f550d29c",
    "deepnote_cell_height": 798,
    "deepnote_cell_type": "code",
    "deepnote_output_heights": [
     611
    ],
    "deepnote_to_be_reexecuted": false,
    "execution_millis": 668,
    "execution_start": 1658245275908,
    "source_hash": "27be0262",
    "tags": []
   },
   "outputs": [
    {
     "data": {
      "image/png": "[encoded data removed]",
      "text/plain": [
       "<Figure size 864x864 with 2 Axes>"
      ]
     },
     "metadata": {},
     "output_type": "display_data"
    }
   ],
   "source": [
    "corr = heatmap_data.corr()\n",
    "mask = np.zeros_like(corr)\n",
    "mask[np.triu_indices_from(mask)] = True\n",
    "with sns.axes_style(\"white\"):\n",
    "    f, ax = plt.subplots(figsize=(12, 12))\n",
    "    ax = sns.heatmap(corr, mask=mask, vmax=.3, square=True,annot=True)"
   ]
  },
  {
   "cell_type": "markdown",
   "metadata": {
    "cell_id": "00024-6053c816-5ff6-4cf0-a05c-8cc23b17d985",
    "deepnote_cell_height": 130.796875,
    "deepnote_cell_type": "markdown",
    "tags": []
   },
   "source": [
    "## COMMON LAST PREPROCESSING STEPS\n",
    "We select the significative columns, divide the input data from the labels and split it all in training set (70%) and test set (30%). We also plot a heatmap with the aim to get a glimpse of the eventual direct or inverse correlations between the selected features.  "
   ]
  },
  {
   "cell_type": "code",
   "execution_count": 15,
   "metadata": {
    "cell_id": "00025-1c5cdb2a-0a09-41f8-b7c0-40d9fb97168a",
    "deepnote_cell_height": 99,
    "deepnote_cell_type": "code",
    "deepnote_to_be_reexecuted": false,
    "execution_millis": 2963420,
    "execution_start": 1658245276582,
    "source_hash": "f1f30801",
    "tags": []
   },
   "outputs": [],
   "source": [
    "filtered_data = final_data_bbh.loc[:,['Mass_0','Mass_1','Radius_0','Radius_1','Semimajor',\n",
    "       'Eccentricity', 'BWorldtime', 'mrg/nonmrg']]"
   ]
  },
  {
   "cell_type": "code",
   "execution_count": 16,
   "metadata": {
    "cell_id": "bcbab3577da5457292c96b2b54159d25",
    "deepnote_cell_height": 745,
    "deepnote_cell_type": "code",
    "deepnote_output_heights": [
     21,
     578
    ],
    "deepnote_to_be_reexecuted": false,
    "execution_millis": 814,
    "execution_start": 1658245276627,
    "source_hash": "cd563773",
    "tags": []
   },
   "outputs": [
    {
     "data": {
      "text/plain": [
       "<AxesSubplot:>"
      ]
     },
     "execution_count": 16,
     "metadata": {},
     "output_type": "execute_result"
    },
    {
     "data": {
      "image/png": "[encoded data removed]",
      "text/plain": [
       "<Figure size 648x648 with 2 Axes>"
      ]
     },
     "metadata": {
      "needs_background": "light"
     },
     "output_type": "display_data"
    }
   ],
   "source": [
    "plt.figure(figsize=(9, 9))\n",
    "sns.heatmap(filtered_data.corr(),annot=True)"
   ]
  },
  {
   "cell_type": "code",
   "execution_count": 17,
   "metadata": {
    "cell_id": "e93afd6227284ceb8ccd3c70d2b78d0a",
    "deepnote_cell_height": 166,
    "deepnote_cell_type": "code",
    "deepnote_to_be_reexecuted": false,
    "execution_millis": 5,
    "execution_start": 1658245277442,
    "owner_user_id": "733549fb-21f0-4bb4-8707-8387891efce2",
    "source_hash": "8911f54f",
    "tags": []
   },
   "outputs": [
    {
     "name": "stdout",
     "output_type": "stream",
     "text": [
      "8151 35466\n"
     ]
    }
   ],
   "source": [
    "mrg_bbh = filtered_data[filtered_data['mrg/nonmrg']==1]\n",
    "nonmrg_bbh = filtered_data[filtered_data['mrg/nonmrg']==0]\n",
    "print(len(mrg_bbh ),len(nonmrg_bbh ))\n"
   ]
  },
  {
   "cell_type": "code",
   "execution_count": 18,
   "metadata": {
    "cell_id": "8cc57cd7270849ed97bc202fb7043e96",
    "deepnote_cell_height": 220,
    "deepnote_cell_type": "code",
    "deepnote_to_be_reexecuted": false,
    "execution_millis": 53,
    "execution_start": 1658245277447,
    "source_hash": "e5c4613a",
    "tags": []
   },
   "outputs": [
    {
     "name": "stdout",
     "output_type": "stream",
     "text": [
      "8151 12226\n"
     ]
    }
   ],
   "source": [
    "#mrg 40%, nonmrg 60%, mrg:nonmrg=1:1.5\n",
    "num_nonmrg_bbh = int(len(mrg_bbh )*1.5)\n",
    "\n",
    "#random choice in non black holes\n",
    "idx = list(np.random.choice(np.arange(1,len(nonmrg_bbh)), num_nonmrg_bbh, replace=False))\n",
    "nonmrg_bbh= nonmrg_bbh.iloc[idx,:]\n",
    "print(len(mrg_bbh),len(nonmrg_bbh))"
   ]
  },
  {
   "cell_type": "code",
   "execution_count": 19,
   "metadata": {
    "cell_id": "67232fae387044bdaafb87cbbe902dfc",
    "deepnote_cell_height": 99,
    "deepnote_cell_type": "code",
    "deepnote_to_be_reexecuted": false,
    "execution_millis": 15,
    "execution_start": 1658245277452,
    "source_hash": "1e4b0dfc",
    "tags": []
   },
   "outputs": [],
   "source": [
    "filtered_data = pd.concat([mrg_bbh,nonmrg_bbh])\n",
    "filtered_data= shuffle(filtered_data)"
   ]
  },
  {
   "cell_type": "code",
   "execution_count": 20,
   "metadata": {
    "cell_id": "26c248cbd38a4e9b92019071e325a3b1",
    "deepnote_cell_height": 745.1875,
    "deepnote_cell_type": "code",
    "deepnote_output_heights": [
     21.1875,
     578
    ],
    "deepnote_to_be_reexecuted": false,
    "execution_millis": 889,
    "execution_start": 1658245277472,
    "source_hash": "cd563773",
    "tags": []
   },
   "outputs": [
    {
     "data": {
      "text/plain": [
       "<AxesSubplot:>"
      ]
     },
     "execution_count": 20,
     "metadata": {},
     "output_type": "execute_result"
    },
    {
     "data": {
      "image/png": "[encoded data removed]",
      "text/plain": [
       "<Figure size 648x648 with 2 Axes>"
      ]
     },
     "metadata": {
      "needs_background": "light"
     },
     "output_type": "display_data"
    }
   ],
   "source": [
    "plt.figure(figsize=(9, 9))\n",
    "sns.heatmap(filtered_data.corr(),annot=True)"
   ]
  },
  {
   "cell_type": "code",
   "execution_count": 21,
   "metadata": {
    "cell_id": "00026-15fd0692-9f48-40b3-ba16-8d3836334dde",
    "deepnote_cell_height": 99,
    "deepnote_cell_type": "code",
    "deepnote_to_be_reexecuted": false,
    "execution_millis": 2964441,
    "execution_start": 1658245278364,
    "source_hash": "c687ce08",
    "tags": []
   },
   "outputs": [],
   "source": [
    "X = filtered_data.iloc[:,:-1]\n",
    "y = filtered_data.iloc[:,-1:]"
   ]
  },
  {
   "cell_type": "code",
   "execution_count": 22,
   "metadata": {
    "cell_id": "00027-77a1ac39-3a5f-428e-ba94-d480219cac6b",
    "deepnote_cell_height": 99,
    "deepnote_cell_type": "code",
    "deepnote_to_be_reexecuted": false,
    "execution_millis": 1,
    "execution_start": 1658245278369,
    "owner_user_id": "b5e2221a-9bc1-482b-8178-df2753724b5b",
    "source_hash": "6f7a47ad",
    "tags": []
   },
   "outputs": [],
   "source": [
    "X = X.fillna(0)\n",
    "y = y.fillna(0)"
   ]
  },
  {
   "cell_type": "code",
   "execution_count": 23,
   "metadata": {
    "cell_id": "00028-5ca1a20d-16bb-4ed3-af84-92340d5c9cbe",
    "deepnote_cell_height": 117,
    "deepnote_cell_type": "code",
    "deepnote_to_be_reexecuted": false,
    "execution_millis": 6,
    "execution_start": 1658245278375,
    "source_hash": "74058b58",
    "tags": []
   },
   "outputs": [],
   "source": [
    "seed = 7\n",
    "test_size = 0.3\n",
    "X_train, X_test, y_train, y_test = train_test_split(X, y, test_size=test_size, random_state=seed)"
   ]
  },
  {
   "cell_type": "markdown",
   "metadata": {
    "cell_id": "00029-da7e304b-8bc0-4a3b-97ee-9071ac136f8f",
    "deepnote_cell_height": 70,
    "deepnote_cell_type": "markdown",
    "tags": []
   },
   "source": [
    "## RANDOM FOREST"
   ]
  },
  {
   "cell_type": "code",
   "execution_count": 24,
   "metadata": {
    "cell_id": "00030-68283e07-0db5-4609-8e18-88be3a081feb",
    "deepnote_cell_height": 1009,
    "deepnote_cell_type": "code",
    "deepnote_output_heights": [
     null,
     78.796875
    ],
    "deepnote_to_be_reexecuted": false,
    "execution_millis": 195118,
    "execution_start": 1658245278430,
    "source_hash": "8f8281f7",
    "tags": []
   },
   "outputs": [
    {
     "name": "stdout",
     "output_type": "stream",
     "text": [
      "Fitting 5 folds for each of 90 candidates, totalling 450 fits\n",
      "[CV 1/5] END criterion=gini, max_depth=5, max_features=auto, n_estimators=100;, score=0.985 total time=   0.8s\n",
      "[CV 2/5] END criterion=gini, max_depth=5, max_features=auto, n_estimators=100;, score=0.985 total time=   0.8s\n",
      "[CV 3/5] END criterion=gini, max_depth=5, max_features=auto, n_estimators=100;, score=0.984 total time=   0.8s\n",
      "[CV 4/5] END criterion=gini, max_depth=5, max_features=auto, n_estimators=100;, score=0.980 total time=   0.8s\n",
      "[CV 5/5] END criterion=gini, max_depth=5, max_features=auto, n_estimators=100;, score=0.982 total time=   0.8s\n",
      "[CV 1/5] END criterion=gini, max_depth=5, max_features=auto, n_estimators=200;, score=0.985 total time=   1.6s\n",
      "[CV 2/5] END criterion=gini, max_depth=5, max_features=auto, n_estimators=200;, score=0.985 total time=   1.6s\n",
      "[CV 3/5] END criterion=gini, max_depth=5, max_features=auto, n_estimators=200;, score=0.983 total time=   1.7s\n",
      "[CV 4/5] END criterion=gini, max_depth=5, max_features=auto, n_estimators=200;, score=0.983 total time=   1.6s\n",
      "[CV 5/5] END criterion=gini, max_depth=5, max_features=auto, n_estimators=200;, score=0.984 total time=   1.5s\n",
      "[CV 1/5] END criterion=gini, max_depth=5, max_features=auto, n_estimators=500;, score=0.985 total time=   3.6s\n",
      "[CV 2/5] END criterion=gini, max_depth=5, max_features=auto, n_estimators=500;, score=0.985 total time=   3.6s\n",
      "[CV 3/5] END criterion=gini, max_depth=5, max_features=auto, n_estimators=500;, score=0.983 total time=   4.2s\n",
      "[CV 4/5] END criterion=gini, max_depth=5, max_features=auto, n_estimators=500;, score=0.982 total time=   3.6s\n",
      "[CV 5/5] END criterion=gini, max_depth=5, max_features=auto, n_estimators=500;, score=0.983 total time=   3.6s\n",
      "[CV 1/5] END criterion=gini, max_depth=5, max_features=sqrt, n_estimators=100;, score=0.984 total time=   0.6s\n",
      "[CV 2/5] END criterion=gini, max_depth=5, max_features=sqrt, n_estimators=100;, score=0.985 total time=   0.6s\n",
      "[CV 3/5] END criterion=gini, max_depth=5, max_features=sqrt, n_estimators=100;, score=0.982 total time=   0.7s\n",
      "[CV 4/5] END criterion=gini, max_depth=5, max_features=sqrt, n_estimators=100;, score=0.983 total time=   0.6s\n",
      "[CV 5/5] END criterion=gini, max_depth=5, max_features=sqrt, n_estimators=100;, score=0.984 total time=   0.7s\n",
      "[CV 1/5] END criterion=gini, max_depth=5, max_features=sqrt, n_estimators=200;, score=0.985 total time=   1.3s\n",
      "[CV 2/5] END criterion=gini, max_depth=5, max_features=sqrt, n_estimators=200;, score=0.986 total time=   1.5s\n",
      "[CV 3/5] END criterion=gini, max_depth=5, max_features=sqrt, n_estimators=200;, score=0.986 total time=   1.5s\n",
      "[CV 4/5] END criterion=gini, max_depth=5, max_features=sqrt, n_estimators=200;, score=0.982 total time=   1.4s\n",
      "[CV 5/5] END criterion=gini, max_depth=5, max_features=sqrt, n_estimators=200;, score=0.983 total time=   1.4s\n",
      "[CV 1/5] END criterion=gini, max_depth=5, max_features=sqrt, n_estimators=500;, score=0.985 total time=   3.6s\n",
      "[CV 2/5] END criterion=gini, max_depth=5, max_features=sqrt, n_estimators=500;, score=0.985 total time=   3.6s\n",
      "[CV 3/5] END criterion=gini, max_depth=5, max_features=sqrt, n_estimators=500;, score=0.984 total time=   3.7s\n",
      "[CV 4/5] END criterion=gini, max_depth=5, max_features=sqrt, n_estimators=500;, score=0.982 total time=   3.6s\n",
      "[CV 5/5] END criterion=gini, max_depth=5, max_features=sqrt, n_estimators=500;, score=0.983 total time=   3.6s\n",
      "[CV 1/5] END criterion=gini, max_depth=5, max_features=log2, n_estimators=100;, score=0.984 total time=   0.6s\n",
      "[CV 2/5] END criterion=gini, max_depth=5, max_features=log2, n_estimators=100;, score=0.985 total time=   0.7s\n",
      "[CV 3/5] END criterion=gini, max_depth=5, max_features=log2, n_estimators=100;, score=0.981 total time=   0.6s\n",
      "[CV 4/5] END criterion=gini, max_depth=5, max_features=log2, n_estimators=100;, score=0.982 total time=   0.6s\n",
      "[CV 5/5] END criterion=gini, max_depth=5, max_features=log2, n_estimators=100;, score=0.983 total time=   0.7s\n",
      "[CV 1/5] END criterion=gini, max_depth=5, max_features=log2, n_estimators=200;, score=0.985 total time=   1.5s\n",
      "[CV 2/5] END criterion=gini, max_depth=5, max_features=log2, n_estimators=200;, score=0.985 total time=   1.5s\n",
      "[CV 3/5] END criterion=gini, max_depth=5, max_features=log2, n_estimators=200;, score=0.984 total time=   1.4s\n",
      "[CV 4/5] END criterion=gini, max_depth=5, max_features=log2, n_estimators=200;, score=0.982 total time=   1.5s\n",
      "[CV 5/5] END criterion=gini, max_depth=5, max_features=log2, n_estimators=200;, score=0.983 total time=   1.5s\n",
      "[CV 1/5] END criterion=gini, max_depth=5, max_features=log2, n_estimators=500;, score=0.985 total time=   4.2s\n",
      "[CV 2/5] END criterion=gini, max_depth=5, max_features=log2, n_estimators=500;, score=0.987 total time=   4.0s\n",
      "[CV 3/5] END criterion=gini, max_depth=5, max_features=log2, n_estimators=500;, score=0.985 total time=   4.0s\n",
      "[CV 4/5] END criterion=gini, max_depth=5, max_features=log2, n_estimators=500;, score=0.981 total time=   3.8s\n",
      "[CV 5/5] END criterion=gini, max_depth=5, max_features=log2, n_estimators=500;, score=0.984 total time=   3.6s\n",
      "[CV 1/5] END criterion=gini, max_depth=10, max_features=auto, n_estimators=100;, score=0.995 total time=   0.8s\n",
      "[CV 2/5] END criterion=gini, max_depth=10, max_features=auto, n_estimators=100;, score=0.996 total time=   0.8s\n",
      "[CV 3/5] END criterion=gini, max_depth=10, max_features=auto, n_estimators=100;, score=0.997 total time=   0.8s\n",
      "[CV 4/5] END criterion=gini, max_depth=10, max_features=auto, n_estimators=100;, score=0.993 total time=   0.8s\n",
      "[CV 5/5] END criterion=gini, max_depth=10, max_features=auto, n_estimators=100;, score=0.994 total time=   0.8s\n",
      "[CV 1/5] END criterion=gini, max_depth=10, max_features=auto, n_estimators=200;, score=0.995 total time=   1.7s\n",
      "[CV 2/5] END criterion=gini, max_depth=10, max_features=auto, n_estimators=200;, score=0.995 total time=   1.7s\n",
      "[CV 3/5] END criterion=gini, max_depth=10, max_features=auto, n_estimators=200;, score=0.997 total time=   1.8s\n",
      "[CV 4/5] END criterion=gini, max_depth=10, max_features=auto, n_estimators=200;, score=0.993 total time=   1.7s\n",
      "[CV 5/5] END criterion=gini, max_depth=10, max_features=auto, n_estimators=200;, score=0.995 total time=   1.7s\n",
      "[CV 1/5] END criterion=gini, max_depth=10, max_features=auto, n_estimators=500;, score=0.995 total time=   4.4s\n",
      "[CV 2/5] END criterion=gini, max_depth=10, max_features=auto, n_estimators=500;, score=0.996 total time=   4.4s\n",
      "[CV 3/5] END criterion=gini, max_depth=10, max_features=auto, n_estimators=500;, score=0.998 total time=   4.5s\n",
      "[CV 4/5] END criterion=gini, max_depth=10, max_features=auto, n_estimators=500;, score=0.992 total time=   4.3s\n",
      "[CV 5/5] END criterion=gini, max_depth=10, max_features=auto, n_estimators=500;, score=0.994 total time=   4.4s\n",
      "[CV 1/5] END criterion=gini, max_depth=10, max_features=sqrt, n_estimators=100;, score=0.996 total time=   0.8s\n",
      "[CV 2/5] END criterion=gini, max_depth=10, max_features=sqrt, n_estimators=100;, score=0.996 total time=   0.8s\n",
      "[CV 3/5] END criterion=gini, max_depth=10, max_features=sqrt, n_estimators=100;, score=0.998 total time=   0.8s\n",
      "[CV 4/5] END criterion=gini, max_depth=10, max_features=sqrt, n_estimators=100;, score=0.993 total time=   0.8s\n",
      "[CV 5/5] END criterion=gini, max_depth=10, max_features=sqrt, n_estimators=100;, score=0.994 total time=   0.8s\n",
      "[CV 1/5] END criterion=gini, max_depth=10, max_features=sqrt, n_estimators=200;, score=0.995 total time=   1.8s\n",
      "[CV 2/5] END criterion=gini, max_depth=10, max_features=sqrt, n_estimators=200;, score=0.996 total time=   1.7s\n",
      "[CV 3/5] END criterion=gini, max_depth=10, max_features=sqrt, n_estimators=200;, score=0.997 total time=   1.7s\n",
      "[CV 4/5] END criterion=gini, max_depth=10, max_features=sqrt, n_estimators=200;, score=0.993 total time=   1.7s\n",
      "[CV 5/5] END criterion=gini, max_depth=10, max_features=sqrt, n_estimators=200;, score=0.995 total time=   1.8s\n",
      "[CV 1/5] END criterion=gini, max_depth=10, max_features=sqrt, n_estimators=500;, score=0.995 total time=   4.5s\n",
      "[CV 2/5] END criterion=gini, max_depth=10, max_features=sqrt, n_estimators=500;, score=0.996 total time=   4.6s\n",
      "[CV 3/5] END criterion=gini, max_depth=10, max_features=sqrt, n_estimators=500;, score=0.997 total time=   4.9s\n"
     ]
    },
    {
     "name": "stdout",
     "output_type": "stream",
     "text": [
      "[CV 4/5] END criterion=gini, max_depth=10, max_features=sqrt, n_estimators=500;, score=0.993 total time=   4.4s\n",
      "[CV 5/5] END criterion=gini, max_depth=10, max_features=sqrt, n_estimators=500;, score=0.995 total time=   4.6s\n",
      "[CV 1/5] END criterion=gini, max_depth=10, max_features=log2, n_estimators=100;, score=0.995 total time=   0.8s\n",
      "[CV 2/5] END criterion=gini, max_depth=10, max_features=log2, n_estimators=100;, score=0.996 total time=   0.8s\n",
      "[CV 3/5] END criterion=gini, max_depth=10, max_features=log2, n_estimators=100;, score=0.996 total time=   0.8s\n",
      "[CV 4/5] END criterion=gini, max_depth=10, max_features=log2, n_estimators=100;, score=0.993 total time=   0.8s\n",
      "[CV 5/5] END criterion=gini, max_depth=10, max_features=log2, n_estimators=100;, score=0.995 total time=   0.8s\n",
      "[CV 1/5] END criterion=gini, max_depth=10, max_features=log2, n_estimators=200;, score=0.995 total time=   1.7s\n",
      "[CV 2/5] END criterion=gini, max_depth=10, max_features=log2, n_estimators=200;, score=0.996 total time=   1.7s\n",
      "[CV 3/5] END criterion=gini, max_depth=10, max_features=log2, n_estimators=200;, score=0.997 total time=   1.7s\n",
      "[CV 4/5] END criterion=gini, max_depth=10, max_features=log2, n_estimators=200;, score=0.993 total time=   1.7s\n",
      "[CV 5/5] END criterion=gini, max_depth=10, max_features=log2, n_estimators=200;, score=0.995 total time=   1.7s\n",
      "[CV 1/5] END criterion=gini, max_depth=10, max_features=log2, n_estimators=500;, score=0.995 total time=   4.4s\n",
      "[CV 2/5] END criterion=gini, max_depth=10, max_features=log2, n_estimators=500;, score=0.996 total time=   4.4s\n",
      "[CV 3/5] END criterion=gini, max_depth=10, max_features=log2, n_estimators=500;, score=0.997 total time=   4.4s\n",
      "[CV 4/5] END criterion=gini, max_depth=10, max_features=log2, n_estimators=500;, score=0.993 total time=   4.3s\n",
      "[CV 5/5] END criterion=gini, max_depth=10, max_features=log2, n_estimators=500;, score=0.995 total time=   4.5s\n",
      "[CV 1/5] END criterion=gini, max_depth=15, max_features=auto, n_estimators=100;, score=0.997 total time=   0.8s\n",
      "[CV 2/5] END criterion=gini, max_depth=15, max_features=auto, n_estimators=100;, score=0.997 total time=   0.8s\n",
      "[CV 3/5] END criterion=gini, max_depth=15, max_features=auto, n_estimators=100;, score=0.997 total time=   0.8s\n",
      "[CV 4/5] END criterion=gini, max_depth=15, max_features=auto, n_estimators=100;, score=0.996 total time=   0.8s\n",
      "[CV 5/5] END criterion=gini, max_depth=15, max_features=auto, n_estimators=100;, score=0.995 total time=   0.8s\n",
      "[CV 1/5] END criterion=gini, max_depth=15, max_features=auto, n_estimators=200;, score=0.995 total time=   1.7s\n",
      "[CV 2/5] END criterion=gini, max_depth=15, max_features=auto, n_estimators=200;, score=0.996 total time=   1.7s\n",
      "[CV 3/5] END criterion=gini, max_depth=15, max_features=auto, n_estimators=200;, score=0.998 total time=   1.8s\n",
      "[CV 4/5] END criterion=gini, max_depth=15, max_features=auto, n_estimators=200;, score=0.995 total time=   1.7s\n",
      "[CV 5/5] END criterion=gini, max_depth=15, max_features=auto, n_estimators=200;, score=0.995 total time=   1.8s\n",
      "[CV 1/5] END criterion=gini, max_depth=15, max_features=auto, n_estimators=500;, score=0.996 total time=   4.4s\n",
      "[CV 2/5] END criterion=gini, max_depth=15, max_features=auto, n_estimators=500;, score=0.997 total time=   4.4s\n",
      "[CV 3/5] END criterion=gini, max_depth=15, max_features=auto, n_estimators=500;, score=0.998 total time=   4.5s\n",
      "[CV 4/5] END criterion=gini, max_depth=15, max_features=auto, n_estimators=500;, score=0.995 total time=   4.4s\n",
      "[CV 5/5] END criterion=gini, max_depth=15, max_features=auto, n_estimators=500;, score=0.995 total time=   4.5s\n",
      "[CV 1/5] END criterion=gini, max_depth=15, max_features=sqrt, n_estimators=100;, score=0.995 total time=   0.8s\n",
      "[CV 2/5] END criterion=gini, max_depth=15, max_features=sqrt, n_estimators=100;, score=0.997 total time=   0.8s\n",
      "[CV 3/5] END criterion=gini, max_depth=15, max_features=sqrt, n_estimators=100;, score=0.999 total time=   0.8s\n",
      "[CV 4/5] END criterion=gini, max_depth=15, max_features=sqrt, n_estimators=100;, score=0.995 total time=   0.8s\n",
      "[CV 5/5] END criterion=gini, max_depth=15, max_features=sqrt, n_estimators=100;, score=0.995 total time=   0.8s\n",
      "[CV 1/5] END criterion=gini, max_depth=15, max_features=sqrt, n_estimators=200;, score=0.996 total time=   1.7s\n",
      "[CV 2/5] END criterion=gini, max_depth=15, max_features=sqrt, n_estimators=200;, score=0.996 total time=   1.8s\n",
      "[CV 3/5] END criterion=gini, max_depth=15, max_features=sqrt, n_estimators=200;, score=0.998 total time=   1.7s\n",
      "[CV 4/5] END criterion=gini, max_depth=15, max_features=sqrt, n_estimators=200;, score=0.996 total time=   1.7s\n",
      "[CV 5/5] END criterion=gini, max_depth=15, max_features=sqrt, n_estimators=200;, score=0.995 total time=   1.8s\n",
      "[CV 1/5] END criterion=gini, max_depth=15, max_features=sqrt, n_estimators=500;, score=0.995 total time=   4.4s\n",
      "[CV 2/5] END criterion=gini, max_depth=15, max_features=sqrt, n_estimators=500;, score=0.996 total time=   4.5s\n",
      "[CV 3/5] END criterion=gini, max_depth=15, max_features=sqrt, n_estimators=500;, score=0.998 total time=   4.6s\n",
      "[CV 4/5] END criterion=gini, max_depth=15, max_features=sqrt, n_estimators=500;, score=0.995 total time=   4.4s\n",
      "[CV 5/5] END criterion=gini, max_depth=15, max_features=sqrt, n_estimators=500;, score=0.996 total time=   4.5s\n",
      "[CV 1/5] END criterion=gini, max_depth=15, max_features=log2, n_estimators=100;, score=0.995 total time=   0.8s\n",
      "[CV 2/5] END criterion=gini, max_depth=15, max_features=log2, n_estimators=100;, score=0.997 total time=   0.9s\n",
      "[CV 3/5] END criterion=gini, max_depth=15, max_features=log2, n_estimators=100;, score=0.999 total time=   0.9s\n",
      "[CV 4/5] END criterion=gini, max_depth=15, max_features=log2, n_estimators=100;, score=0.994 total time=   0.9s\n",
      "[CV 5/5] END criterion=gini, max_depth=15, max_features=log2, n_estimators=100;, score=0.994 total time=   0.9s\n",
      "[CV 1/5] END criterion=gini, max_depth=15, max_features=log2, n_estimators=200;, score=0.995 total time=   1.7s\n",
      "[CV 2/5] END criterion=gini, max_depth=15, max_features=log2, n_estimators=200;, score=0.996 total time=   1.8s\n",
      "[CV 3/5] END criterion=gini, max_depth=15, max_features=log2, n_estimators=200;, score=0.999 total time=   1.9s\n",
      "[CV 4/5] END criterion=gini, max_depth=15, max_features=log2, n_estimators=200;, score=0.996 total time=   2.1s\n",
      "[CV 5/5] END criterion=gini, max_depth=15, max_features=log2, n_estimators=200;, score=0.995 total time=   1.8s\n",
      "[CV 1/5] END criterion=gini, max_depth=15, max_features=log2, n_estimators=500;, score=0.995 total time=   5.0s\n",
      "[CV 2/5] END criterion=gini, max_depth=15, max_features=log2, n_estimators=500;, score=0.997 total time=   5.0s\n",
      "[CV 3/5] END criterion=gini, max_depth=15, max_features=log2, n_estimators=500;, score=0.998 total time=   4.5s\n",
      "[CV 4/5] END criterion=gini, max_depth=15, max_features=log2, n_estimators=500;, score=0.995 total time=   4.4s\n",
      "[CV 5/5] END criterion=gini, max_depth=15, max_features=log2, n_estimators=500;, score=0.995 total time=   4.6s\n",
      "[CV 1/5] END criterion=gini, max_depth=20, max_features=auto, n_estimators=100;, score=0.995 total time=   0.8s\n",
      "[CV 2/5] END criterion=gini, max_depth=20, max_features=auto, n_estimators=100;, score=0.997 total time=   0.8s\n",
      "[CV 3/5] END criterion=gini, max_depth=20, max_features=auto, n_estimators=100;, score=0.998 total time=   0.8s\n",
      "[CV 4/5] END criterion=gini, max_depth=20, max_features=auto, n_estimators=100;, score=0.996 total time=   0.8s\n",
      "[CV 5/5] END criterion=gini, max_depth=20, max_features=auto, n_estimators=100;, score=0.995 total time=   0.8s\n",
      "[CV 1/5] END criterion=gini, max_depth=20, max_features=auto, n_estimators=200;, score=0.996 total time=   1.7s\n",
      "[CV 2/5] END criterion=gini, max_depth=20, max_features=auto, n_estimators=200;, score=0.996 total time=   1.7s\n",
      "[CV 3/5] END criterion=gini, max_depth=20, max_features=auto, n_estimators=200;, score=0.999 total time=   1.9s\n",
      "[CV 4/5] END criterion=gini, max_depth=20, max_features=auto, n_estimators=200;, score=0.995 total time=   2.0s\n",
      "[CV 5/5] END criterion=gini, max_depth=20, max_features=auto, n_estimators=200;, score=0.995 total time=   1.8s\n",
      "[CV 1/5] END criterion=gini, max_depth=20, max_features=auto, n_estimators=500;, score=0.996 total time=   4.4s\n",
      "[CV 2/5] END criterion=gini, max_depth=20, max_features=auto, n_estimators=500;, score=0.997 total time=   4.5s\n"
     ]
    },
    {
     "name": "stdout",
     "output_type": "stream",
     "text": [
      "[CV 3/5] END criterion=gini, max_depth=20, max_features=auto, n_estimators=500;, score=0.998 total time=   4.6s\n",
      "[CV 4/5] END criterion=gini, max_depth=20, max_features=auto, n_estimators=500;, score=0.995 total time=   4.4s\n",
      "[CV 5/5] END criterion=gini, max_depth=20, max_features=auto, n_estimators=500;, score=0.995 total time=   4.5s\n",
      "[CV 1/5] END criterion=gini, max_depth=20, max_features=sqrt, n_estimators=100;, score=0.996 total time=   0.8s\n",
      "[CV 2/5] END criterion=gini, max_depth=20, max_features=sqrt, n_estimators=100;, score=0.996 total time=   0.8s\n",
      "[CV 3/5] END criterion=gini, max_depth=20, max_features=sqrt, n_estimators=100;, score=0.997 total time=   0.8s\n",
      "[CV 4/5] END criterion=gini, max_depth=20, max_features=sqrt, n_estimators=100;, score=0.996 total time=   0.8s\n",
      "[CV 5/5] END criterion=gini, max_depth=20, max_features=sqrt, n_estimators=100;, score=0.995 total time=   0.8s\n",
      "[CV 1/5] END criterion=gini, max_depth=20, max_features=sqrt, n_estimators=200;, score=0.995 total time=   1.8s\n",
      "[CV 2/5] END criterion=gini, max_depth=20, max_features=sqrt, n_estimators=200;, score=0.996 total time=   1.8s\n",
      "[CV 3/5] END criterion=gini, max_depth=20, max_features=sqrt, n_estimators=200;, score=0.998 total time=   1.7s\n",
      "[CV 4/5] END criterion=gini, max_depth=20, max_features=sqrt, n_estimators=200;, score=0.996 total time=   1.7s\n",
      "[CV 5/5] END criterion=gini, max_depth=20, max_features=sqrt, n_estimators=200;, score=0.994 total time=   1.7s\n",
      "[CV 1/5] END criterion=gini, max_depth=20, max_features=sqrt, n_estimators=500;, score=0.996 total time=   4.6s\n",
      "[CV 2/5] END criterion=gini, max_depth=20, max_features=sqrt, n_estimators=500;, score=0.996 total time=   4.6s\n",
      "[CV 3/5] END criterion=gini, max_depth=20, max_features=sqrt, n_estimators=500;, score=0.998 total time=   4.5s\n",
      "[CV 4/5] END criterion=gini, max_depth=20, max_features=sqrt, n_estimators=500;, score=0.995 total time=   4.4s\n",
      "[CV 5/5] END criterion=gini, max_depth=20, max_features=sqrt, n_estimators=500;, score=0.995 total time=   4.5s\n",
      "[CV 1/5] END criterion=gini, max_depth=20, max_features=log2, n_estimators=100;, score=0.996 total time=   0.8s\n",
      "[CV 2/5] END criterion=gini, max_depth=20, max_features=log2, n_estimators=100;, score=0.996 total time=   0.9s\n",
      "[CV 3/5] END criterion=gini, max_depth=20, max_features=log2, n_estimators=100;, score=0.998 total time=   0.8s\n",
      "[CV 4/5] END criterion=gini, max_depth=20, max_features=log2, n_estimators=100;, score=0.995 total time=   0.8s\n",
      "[CV 5/5] END criterion=gini, max_depth=20, max_features=log2, n_estimators=100;, score=0.996 total time=   0.8s\n",
      "[CV 1/5] END criterion=gini, max_depth=20, max_features=log2, n_estimators=200;, score=0.996 total time=   1.7s\n",
      "[CV 2/5] END criterion=gini, max_depth=20, max_features=log2, n_estimators=200;, score=0.996 total time=   1.7s\n",
      "[CV 3/5] END criterion=gini, max_depth=20, max_features=log2, n_estimators=200;, score=0.998 total time=   1.7s\n",
      "[CV 4/5] END criterion=gini, max_depth=20, max_features=log2, n_estimators=200;, score=0.995 total time=   1.7s\n",
      "[CV 5/5] END criterion=gini, max_depth=20, max_features=log2, n_estimators=200;, score=0.995 total time=   1.8s\n",
      "[CV 1/5] END criterion=gini, max_depth=20, max_features=log2, n_estimators=500;, score=0.996 total time=   4.5s\n",
      "[CV 2/5] END criterion=gini, max_depth=20, max_features=log2, n_estimators=500;, score=0.997 total time=   4.5s\n",
      "[CV 3/5] END criterion=gini, max_depth=20, max_features=log2, n_estimators=500;, score=0.998 total time=   4.5s\n",
      "[CV 4/5] END criterion=gini, max_depth=20, max_features=log2, n_estimators=500;, score=0.995 total time=   4.6s\n",
      "[CV 5/5] END criterion=gini, max_depth=20, max_features=log2, n_estimators=500;, score=0.995 total time=   4.6s\n",
      "[CV 1/5] END criterion=gini, max_depth=25, max_features=auto, n_estimators=100;, score=0.996 total time=   0.8s\n",
      "[CV 2/5] END criterion=gini, max_depth=25, max_features=auto, n_estimators=100;, score=0.997 total time=   0.8s\n",
      "[CV 3/5] END criterion=gini, max_depth=25, max_features=auto, n_estimators=100;, score=0.998 total time=   0.8s\n",
      "[CV 4/5] END criterion=gini, max_depth=25, max_features=auto, n_estimators=100;, score=0.995 total time=   0.8s\n",
      "[CV 5/5] END criterion=gini, max_depth=25, max_features=auto, n_estimators=100;, score=0.994 total time=   0.8s\n",
      "[CV 1/5] END criterion=gini, max_depth=25, max_features=auto, n_estimators=200;, score=0.995 total time=   1.7s\n",
      "[CV 2/5] END criterion=gini, max_depth=25, max_features=auto, n_estimators=200;, score=0.996 total time=   1.7s\n",
      "[CV 3/5] END criterion=gini, max_depth=25, max_features=auto, n_estimators=200;, score=0.998 total time=   1.9s\n",
      "[CV 4/5] END criterion=gini, max_depth=25, max_features=auto, n_estimators=200;, score=0.995 total time=   1.8s\n",
      "[CV 5/5] END criterion=gini, max_depth=25, max_features=auto, n_estimators=200;, score=0.994 total time=   1.9s\n",
      "[CV 1/5] END criterion=gini, max_depth=25, max_features=auto, n_estimators=500;, score=0.996 total time=   4.6s\n",
      "[CV 2/5] END criterion=gini, max_depth=25, max_features=auto, n_estimators=500;, score=0.997 total time=   4.6s\n",
      "[CV 3/5] END criterion=gini, max_depth=25, max_features=auto, n_estimators=500;, score=0.998 total time=   4.6s\n",
      "[CV 4/5] END criterion=gini, max_depth=25, max_features=auto, n_estimators=500;, score=0.995 total time=   4.6s\n",
      "[CV 5/5] END criterion=gini, max_depth=25, max_features=auto, n_estimators=500;, score=0.995 total time=   4.6s\n",
      "[CV 1/5] END criterion=gini, max_depth=25, max_features=sqrt, n_estimators=100;, score=0.996 total time=   0.8s\n",
      "[CV 2/5] END criterion=gini, max_depth=25, max_features=sqrt, n_estimators=100;, score=0.997 total time=   0.8s\n",
      "[CV 3/5] END criterion=gini, max_depth=25, max_features=sqrt, n_estimators=100;, score=0.998 total time=   0.8s\n",
      "[CV 4/5] END criterion=gini, max_depth=25, max_features=sqrt, n_estimators=100;, score=0.996 total time=   0.8s\n",
      "[CV 5/5] END criterion=gini, max_depth=25, max_features=sqrt, n_estimators=100;, score=0.995 total time=   0.8s\n",
      "[CV 1/5] END criterion=gini, max_depth=25, max_features=sqrt, n_estimators=200;, score=0.996 total time=   1.7s\n",
      "[CV 2/5] END criterion=gini, max_depth=25, max_features=sqrt, n_estimators=200;, score=0.997 total time=   1.9s\n",
      "[CV 3/5] END criterion=gini, max_depth=25, max_features=sqrt, n_estimators=200;, score=0.998 total time=   1.7s\n",
      "[CV 4/5] END criterion=gini, max_depth=25, max_features=sqrt, n_estimators=200;, score=0.996 total time=   1.9s\n",
      "[CV 5/5] END criterion=gini, max_depth=25, max_features=sqrt, n_estimators=200;, score=0.995 total time=   1.8s\n",
      "[CV 1/5] END criterion=gini, max_depth=25, max_features=sqrt, n_estimators=500;, score=0.996 total time=   4.5s\n",
      "[CV 2/5] END criterion=gini, max_depth=25, max_features=sqrt, n_estimators=500;, score=0.997 total time=   4.7s\n",
      "[CV 3/5] END criterion=gini, max_depth=25, max_features=sqrt, n_estimators=500;, score=0.998 total time=   5.2s\n",
      "[CV 4/5] END criterion=gini, max_depth=25, max_features=sqrt, n_estimators=500;, score=0.995 total time=   5.0s\n",
      "[CV 5/5] END criterion=gini, max_depth=25, max_features=sqrt, n_estimators=500;, score=0.995 total time=   5.1s\n",
      "[CV 1/5] END criterion=gini, max_depth=25, max_features=log2, n_estimators=100;, score=0.996 total time=   1.0s\n",
      "[CV 2/5] END criterion=gini, max_depth=25, max_features=log2, n_estimators=100;, score=0.996 total time=   0.9s\n",
      "[CV 3/5] END criterion=gini, max_depth=25, max_features=log2, n_estimators=100;, score=0.998 total time=   0.9s\n",
      "[CV 4/5] END criterion=gini, max_depth=25, max_features=log2, n_estimators=100;, score=0.994 total time=   0.9s\n",
      "[CV 5/5] END criterion=gini, max_depth=25, max_features=log2, n_estimators=100;, score=0.996 total time=   0.9s\n",
      "[CV 1/5] END criterion=gini, max_depth=25, max_features=log2, n_estimators=200;, score=0.995 total time=   1.8s\n",
      "[CV 2/5] END criterion=gini, max_depth=25, max_features=log2, n_estimators=200;, score=0.997 total time=   1.7s\n",
      "[CV 3/5] END criterion=gini, max_depth=25, max_features=log2, n_estimators=200;, score=0.998 total time=   1.8s\n",
      "[CV 4/5] END criterion=gini, max_depth=25, max_features=log2, n_estimators=200;, score=0.995 total time=   1.7s\n",
      "[CV 5/5] END criterion=gini, max_depth=25, max_features=log2, n_estimators=200;, score=0.995 total time=   1.8s\n",
      "[CV 1/5] END criterion=gini, max_depth=25, max_features=log2, n_estimators=500;, score=0.996 total time=   4.8s\n"
     ]
    },
    {
     "name": "stdout",
     "output_type": "stream",
     "text": [
      "[CV 2/5] END criterion=gini, max_depth=25, max_features=log2, n_estimators=500;, score=0.996 total time=   4.5s\n",
      "[CV 3/5] END criterion=gini, max_depth=25, max_features=log2, n_estimators=500;, score=0.998 total time=   4.4s\n",
      "[CV 4/5] END criterion=gini, max_depth=25, max_features=log2, n_estimators=500;, score=0.995 total time=   4.5s\n",
      "[CV 5/5] END criterion=gini, max_depth=25, max_features=log2, n_estimators=500;, score=0.995 total time=   4.5s\n",
      "[CV 1/5] END criterion=entropy, max_depth=5, max_features=auto, n_estimators=100;, score=0.971 total time=   0.8s\n",
      "[CV 2/5] END criterion=entropy, max_depth=5, max_features=auto, n_estimators=100;, score=0.975 total time=   0.8s\n",
      "[CV 3/5] END criterion=entropy, max_depth=5, max_features=auto, n_estimators=100;, score=0.975 total time=   0.8s\n",
      "[CV 4/5] END criterion=entropy, max_depth=5, max_features=auto, n_estimators=100;, score=0.974 total time=   0.8s\n",
      "[CV 5/5] END criterion=entropy, max_depth=5, max_features=auto, n_estimators=100;, score=0.974 total time=   0.8s\n",
      "[CV 1/5] END criterion=entropy, max_depth=5, max_features=auto, n_estimators=200;, score=0.972 total time=   1.7s\n",
      "[CV 2/5] END criterion=entropy, max_depth=5, max_features=auto, n_estimators=200;, score=0.974 total time=   1.7s\n",
      "[CV 3/5] END criterion=entropy, max_depth=5, max_features=auto, n_estimators=200;, score=0.975 total time=   1.7s\n",
      "[CV 4/5] END criterion=entropy, max_depth=5, max_features=auto, n_estimators=200;, score=0.975 total time=   1.8s\n",
      "[CV 5/5] END criterion=entropy, max_depth=5, max_features=auto, n_estimators=200;, score=0.977 total time=   1.7s\n",
      "[CV 1/5] END criterion=entropy, max_depth=5, max_features=auto, n_estimators=500;, score=0.971 total time=   4.3s\n",
      "[CV 2/5] END criterion=entropy, max_depth=5, max_features=auto, n_estimators=500;, score=0.976 total time=   4.3s\n",
      "[CV 3/5] END criterion=entropy, max_depth=5, max_features=auto, n_estimators=500;, score=0.975 total time=   4.5s\n",
      "[CV 4/5] END criterion=entropy, max_depth=5, max_features=auto, n_estimators=500;, score=0.976 total time=   4.2s\n",
      "[CV 5/5] END criterion=entropy, max_depth=5, max_features=auto, n_estimators=500;, score=0.976 total time=   4.4s\n",
      "[CV 1/5] END criterion=entropy, max_depth=5, max_features=sqrt, n_estimators=100;, score=0.971 total time=   0.8s\n",
      "[CV 2/5] END criterion=entropy, max_depth=5, max_features=sqrt, n_estimators=100;, score=0.973 total time=   0.8s\n",
      "[CV 3/5] END criterion=entropy, max_depth=5, max_features=sqrt, n_estimators=100;, score=0.974 total time=   0.8s\n",
      "[CV 4/5] END criterion=entropy, max_depth=5, max_features=sqrt, n_estimators=100;, score=0.974 total time=   0.8s\n",
      "[CV 5/5] END criterion=entropy, max_depth=5, max_features=sqrt, n_estimators=100;, score=0.974 total time=   0.8s\n",
      "[CV 1/5] END criterion=entropy, max_depth=5, max_features=sqrt, n_estimators=200;, score=0.970 total time=   1.6s\n",
      "[CV 2/5] END criterion=entropy, max_depth=5, max_features=sqrt, n_estimators=200;, score=0.973 total time=   1.8s\n",
      "[CV 3/5] END criterion=entropy, max_depth=5, max_features=sqrt, n_estimators=200;, score=0.977 total time=   1.7s\n",
      "[CV 4/5] END criterion=entropy, max_depth=5, max_features=sqrt, n_estimators=200;, score=0.973 total time=   1.7s\n",
      "[CV 5/5] END criterion=entropy, max_depth=5, max_features=sqrt, n_estimators=200;, score=0.975 total time=   1.7s\n",
      "[CV 1/5] END criterion=entropy, max_depth=5, max_features=sqrt, n_estimators=500;, score=0.972 total time=   4.2s\n",
      "[CV 2/5] END criterion=entropy, max_depth=5, max_features=sqrt, n_estimators=500;, score=0.974 total time=   4.3s\n",
      "[CV 3/5] END criterion=entropy, max_depth=5, max_features=sqrt, n_estimators=500;, score=0.976 total time=   4.5s\n",
      "[CV 4/5] END criterion=entropy, max_depth=5, max_features=sqrt, n_estimators=500;, score=0.974 total time=   4.2s\n",
      "[CV 5/5] END criterion=entropy, max_depth=5, max_features=sqrt, n_estimators=500;, score=0.975 total time=   4.4s\n",
      "[CV 1/5] END criterion=entropy, max_depth=5, max_features=log2, n_estimators=100;, score=0.971 total time=   0.8s\n",
      "[CV 2/5] END criterion=entropy, max_depth=5, max_features=log2, n_estimators=100;, score=0.973 total time=   0.8s\n",
      "[CV 3/5] END criterion=entropy, max_depth=5, max_features=log2, n_estimators=100;, score=0.978 total time=   0.9s\n",
      "[CV 4/5] END criterion=entropy, max_depth=5, max_features=log2, n_estimators=100;, score=0.977 total time=   0.8s\n",
      "[CV 5/5] END criterion=entropy, max_depth=5, max_features=log2, n_estimators=100;, score=0.974 total time=   0.8s\n",
      "[CV 1/5] END criterion=entropy, max_depth=5, max_features=log2, n_estimators=200;, score=0.972 total time=   1.7s\n",
      "[CV 2/5] END criterion=entropy, max_depth=5, max_features=log2, n_estimators=200;, score=0.975 total time=   1.7s\n",
      "[CV 3/5] END criterion=entropy, max_depth=5, max_features=log2, n_estimators=200;, score=0.975 total time=   1.7s\n",
      "[CV 4/5] END criterion=entropy, max_depth=5, max_features=log2, n_estimators=200;, score=0.975 total time=   1.6s\n",
      "[CV 5/5] END criterion=entropy, max_depth=5, max_features=log2, n_estimators=200;, score=0.974 total time=   1.7s\n",
      "[CV 1/5] END criterion=entropy, max_depth=5, max_features=log2, n_estimators=500;, score=0.971 total time=   4.4s\n",
      "[CV 2/5] END criterion=entropy, max_depth=5, max_features=log2, n_estimators=500;, score=0.974 total time=   4.6s\n",
      "[CV 3/5] END criterion=entropy, max_depth=5, max_features=log2, n_estimators=500;, score=0.976 total time=   4.6s\n",
      "[CV 4/5] END criterion=entropy, max_depth=5, max_features=log2, n_estimators=500;, score=0.976 total time=   4.4s\n",
      "[CV 5/5] END criterion=entropy, max_depth=5, max_features=log2, n_estimators=500;, score=0.977 total time=   4.7s\n",
      "[CV 1/5] END criterion=entropy, max_depth=10, max_features=auto, n_estimators=100;, score=0.993 total time=   1.0s\n",
      "[CV 2/5] END criterion=entropy, max_depth=10, max_features=auto, n_estimators=100;, score=0.994 total time=   1.0s\n",
      "[CV 3/5] END criterion=entropy, max_depth=10, max_features=auto, n_estimators=100;, score=0.998 total time=   1.0s\n",
      "[CV 4/5] END criterion=entropy, max_depth=10, max_features=auto, n_estimators=100;, score=0.994 total time=   1.0s\n",
      "[CV 5/5] END criterion=entropy, max_depth=10, max_features=auto, n_estimators=100;, score=0.993 total time=   1.0s\n",
      "[CV 1/5] END criterion=entropy, max_depth=10, max_features=auto, n_estimators=200;, score=0.994 total time=   2.0s\n",
      "[CV 2/5] END criterion=entropy, max_depth=10, max_features=auto, n_estimators=200;, score=0.994 total time=   2.0s\n",
      "[CV 3/5] END criterion=entropy, max_depth=10, max_features=auto, n_estimators=200;, score=0.997 total time=   2.2s\n",
      "[CV 4/5] END criterion=entropy, max_depth=10, max_features=auto, n_estimators=200;, score=0.994 total time=   2.1s\n",
      "[CV 5/5] END criterion=entropy, max_depth=10, max_features=auto, n_estimators=200;, score=0.994 total time=   2.2s\n",
      "[CV 1/5] END criterion=entropy, max_depth=10, max_features=auto, n_estimators=500;, score=0.994 total time=   5.3s\n",
      "[CV 2/5] END criterion=entropy, max_depth=10, max_features=auto, n_estimators=500;, score=0.994 total time=   5.2s\n",
      "[CV 3/5] END criterion=entropy, max_depth=10, max_features=auto, n_estimators=500;, score=0.996 total time=   5.5s\n",
      "[CV 4/5] END criterion=entropy, max_depth=10, max_features=auto, n_estimators=500;, score=0.993 total time=   5.2s\n",
      "[CV 5/5] END criterion=entropy, max_depth=10, max_features=auto, n_estimators=500;, score=0.994 total time=   5.4s\n",
      "[CV 1/5] END criterion=entropy, max_depth=10, max_features=sqrt, n_estimators=100;, score=0.994 total time=   1.0s\n",
      "[CV 2/5] END criterion=entropy, max_depth=10, max_features=sqrt, n_estimators=100;, score=0.994 total time=   1.0s\n",
      "[CV 3/5] END criterion=entropy, max_depth=10, max_features=sqrt, n_estimators=100;, score=0.996 total time=   1.1s\n",
      "[CV 4/5] END criterion=entropy, max_depth=10, max_features=sqrt, n_estimators=100;, score=0.994 total time=   1.0s\n",
      "[CV 5/5] END criterion=entropy, max_depth=10, max_features=sqrt, n_estimators=100;, score=0.994 total time=   1.0s\n",
      "[CV 1/5] END criterion=entropy, max_depth=10, max_features=sqrt, n_estimators=200;, score=0.994 total time=   2.0s\n",
      "[CV 2/5] END criterion=entropy, max_depth=10, max_features=sqrt, n_estimators=200;, score=0.993 total time=   2.0s\n",
      "[CV 3/5] END criterion=entropy, max_depth=10, max_features=sqrt, n_estimators=200;, score=0.996 total time=   2.1s\n"
     ]
    },
    {
     "name": "stdout",
     "output_type": "stream",
     "text": [
      "[CV 4/5] END criterion=entropy, max_depth=10, max_features=sqrt, n_estimators=200;, score=0.994 total time=   2.0s\n",
      "[CV 5/5] END criterion=entropy, max_depth=10, max_features=sqrt, n_estimators=200;, score=0.995 total time=   2.1s\n",
      "[CV 1/5] END criterion=entropy, max_depth=10, max_features=sqrt, n_estimators=500;, score=0.993 total time=   5.3s\n",
      "[CV 2/5] END criterion=entropy, max_depth=10, max_features=sqrt, n_estimators=500;, score=0.993 total time=   5.3s\n",
      "[CV 3/5] END criterion=entropy, max_depth=10, max_features=sqrt, n_estimators=500;, score=0.996 total time=   5.6s\n",
      "[CV 4/5] END criterion=entropy, max_depth=10, max_features=sqrt, n_estimators=500;, score=0.993 total time=   5.5s\n",
      "[CV 5/5] END criterion=entropy, max_depth=10, max_features=sqrt, n_estimators=500;, score=0.994 total time=   5.5s\n",
      "[CV 1/5] END criterion=entropy, max_depth=10, max_features=log2, n_estimators=100;, score=0.994 total time=   1.0s\n",
      "[CV 2/5] END criterion=entropy, max_depth=10, max_features=log2, n_estimators=100;, score=0.994 total time=   1.0s\n",
      "[CV 3/5] END criterion=entropy, max_depth=10, max_features=log2, n_estimators=100;, score=0.995 total time=   1.0s\n",
      "[CV 4/5] END criterion=entropy, max_depth=10, max_features=log2, n_estimators=100;, score=0.993 total time=   1.0s\n",
      "[CV 5/5] END criterion=entropy, max_depth=10, max_features=log2, n_estimators=100;, score=0.994 total time=   1.0s\n",
      "[CV 1/5] END criterion=entropy, max_depth=10, max_features=log2, n_estimators=200;, score=0.994 total time=   2.1s\n",
      "[CV 2/5] END criterion=entropy, max_depth=10, max_features=log2, n_estimators=200;, score=0.994 total time=   2.1s\n",
      "[CV 3/5] END criterion=entropy, max_depth=10, max_features=log2, n_estimators=200;, score=0.996 total time=   2.2s\n",
      "[CV 4/5] END criterion=entropy, max_depth=10, max_features=log2, n_estimators=200;, score=0.994 total time=   2.0s\n",
      "[CV 5/5] END criterion=entropy, max_depth=10, max_features=log2, n_estimators=200;, score=0.994 total time=   2.1s\n",
      "[CV 1/5] END criterion=entropy, max_depth=10, max_features=log2, n_estimators=500;, score=0.993 total time=   5.4s\n",
      "[CV 2/5] END criterion=entropy, max_depth=10, max_features=log2, n_estimators=500;, score=0.994 total time=   5.8s\n",
      "[CV 3/5] END criterion=entropy, max_depth=10, max_features=log2, n_estimators=500;, score=0.996 total time=   5.5s\n",
      "[CV 4/5] END criterion=entropy, max_depth=10, max_features=log2, n_estimators=500;, score=0.994 total time=   5.3s\n",
      "[CV 5/5] END criterion=entropy, max_depth=10, max_features=log2, n_estimators=500;, score=0.993 total time=   5.6s\n",
      "[CV 1/5] END criterion=entropy, max_depth=15, max_features=auto, n_estimators=100;, score=0.996 total time=   1.0s\n",
      "[CV 2/5] END criterion=entropy, max_depth=15, max_features=auto, n_estimators=100;, score=0.997 total time=   1.1s\n",
      "[CV 3/5] END criterion=entropy, max_depth=15, max_features=auto, n_estimators=100;, score=0.998 total time=   1.1s\n",
      "[CV 4/5] END criterion=entropy, max_depth=15, max_features=auto, n_estimators=100;, score=0.996 total time=   1.0s\n",
      "[CV 5/5] END criterion=entropy, max_depth=15, max_features=auto, n_estimators=100;, score=0.995 total time=   1.0s\n",
      "[CV 1/5] END criterion=entropy, max_depth=15, max_features=auto, n_estimators=200;, score=0.996 total time=   2.0s\n",
      "[CV 2/5] END criterion=entropy, max_depth=15, max_features=auto, n_estimators=200;, score=0.996 total time=   2.1s\n",
      "[CV 3/5] END criterion=entropy, max_depth=15, max_features=auto, n_estimators=200;, score=0.998 total time=   2.2s\n",
      "[CV 4/5] END criterion=entropy, max_depth=15, max_features=auto, n_estimators=200;, score=0.995 total time=   2.1s\n",
      "[CV 5/5] END criterion=entropy, max_depth=15, max_features=auto, n_estimators=200;, score=0.994 total time=   2.2s\n",
      "[CV 1/5] END criterion=entropy, max_depth=15, max_features=auto, n_estimators=500;, score=0.996 total time=   5.3s\n",
      "[CV 2/5] END criterion=entropy, max_depth=15, max_features=auto, n_estimators=500;, score=0.996 total time=   5.5s\n",
      "[CV 3/5] END criterion=entropy, max_depth=15, max_features=auto, n_estimators=500;, score=0.998 total time=   5.4s\n",
      "[CV 4/5] END criterion=entropy, max_depth=15, max_features=auto, n_estimators=500;, score=0.995 total time=   5.2s\n",
      "[CV 5/5] END criterion=entropy, max_depth=15, max_features=auto, n_estimators=500;, score=0.994 total time=   5.6s\n",
      "[CV 1/5] END criterion=entropy, max_depth=15, max_features=sqrt, n_estimators=100;, score=0.996 total time=   1.0s\n",
      "[CV 2/5] END criterion=entropy, max_depth=15, max_features=sqrt, n_estimators=100;, score=0.997 total time=   1.0s\n",
      "[CV 3/5] END criterion=entropy, max_depth=15, max_features=sqrt, n_estimators=100;, score=0.996 total time=   1.0s\n",
      "[CV 4/5] END criterion=entropy, max_depth=15, max_features=sqrt, n_estimators=100;, score=0.995 total time=   1.0s\n",
      "[CV 5/5] END criterion=entropy, max_depth=15, max_features=sqrt, n_estimators=100;, score=0.994 total time=   1.0s\n",
      "[CV 1/5] END criterion=entropy, max_depth=15, max_features=sqrt, n_estimators=200;, score=0.995 total time=   2.1s\n",
      "[CV 2/5] END criterion=entropy, max_depth=15, max_features=sqrt, n_estimators=200;, score=0.997 total time=   2.1s\n",
      "[CV 3/5] END criterion=entropy, max_depth=15, max_features=sqrt, n_estimators=200;, score=0.998 total time=   2.1s\n",
      "[CV 4/5] END criterion=entropy, max_depth=15, max_features=sqrt, n_estimators=200;, score=0.996 total time=   2.1s\n",
      "[CV 5/5] END criterion=entropy, max_depth=15, max_features=sqrt, n_estimators=200;, score=0.994 total time=   2.2s\n",
      "[CV 1/5] END criterion=entropy, max_depth=15, max_features=sqrt, n_estimators=500;, score=0.996 total time=   5.3s\n",
      "[CV 2/5] END criterion=entropy, max_depth=15, max_features=sqrt, n_estimators=500;, score=0.996 total time=   5.4s\n",
      "[CV 3/5] END criterion=entropy, max_depth=15, max_features=sqrt, n_estimators=500;, score=0.998 total time=   5.5s\n",
      "[CV 4/5] END criterion=entropy, max_depth=15, max_features=sqrt, n_estimators=500;, score=0.996 total time=   5.4s\n",
      "[CV 5/5] END criterion=entropy, max_depth=15, max_features=sqrt, n_estimators=500;, score=0.995 total time=   5.5s\n",
      "[CV 1/5] END criterion=entropy, max_depth=15, max_features=log2, n_estimators=100;, score=0.996 total time=   1.0s\n",
      "[CV 2/5] END criterion=entropy, max_depth=15, max_features=log2, n_estimators=100;, score=0.996 total time=   1.1s\n",
      "[CV 3/5] END criterion=entropy, max_depth=15, max_features=log2, n_estimators=100;, score=0.997 total time=   1.0s\n",
      "[CV 4/5] END criterion=entropy, max_depth=15, max_features=log2, n_estimators=100;, score=0.994 total time=   1.1s\n",
      "[CV 5/5] END criterion=entropy, max_depth=15, max_features=log2, n_estimators=100;, score=0.994 total time=   1.1s\n",
      "[CV 1/5] END criterion=entropy, max_depth=15, max_features=log2, n_estimators=200;, score=0.996 total time=   2.0s\n",
      "[CV 2/5] END criterion=entropy, max_depth=15, max_features=log2, n_estimators=200;, score=0.996 total time=   2.1s\n",
      "[CV 3/5] END criterion=entropy, max_depth=15, max_features=log2, n_estimators=200;, score=0.998 total time=   2.2s\n",
      "[CV 4/5] END criterion=entropy, max_depth=15, max_features=log2, n_estimators=200;, score=0.996 total time=   2.2s\n",
      "[CV 5/5] END criterion=entropy, max_depth=15, max_features=log2, n_estimators=200;, score=0.995 total time=   2.3s\n",
      "[CV 1/5] END criterion=entropy, max_depth=15, max_features=log2, n_estimators=500;, score=0.996 total time=   5.7s\n",
      "[CV 2/5] END criterion=entropy, max_depth=15, max_features=log2, n_estimators=500;, score=0.997 total time=   5.7s\n",
      "[CV 3/5] END criterion=entropy, max_depth=15, max_features=log2, n_estimators=500;, score=0.998 total time=   5.8s\n",
      "[CV 4/5] END criterion=entropy, max_depth=15, max_features=log2, n_estimators=500;, score=0.996 total time=   5.5s\n",
      "[CV 5/5] END criterion=entropy, max_depth=15, max_features=log2, n_estimators=500;, score=0.994 total time=   5.6s\n",
      "[CV 1/5] END criterion=entropy, max_depth=20, max_features=auto, n_estimators=100;, score=0.995 total time=   1.0s\n",
      "[CV 2/5] END criterion=entropy, max_depth=20, max_features=auto, n_estimators=100;, score=0.997 total time=   1.0s\n",
      "[CV 3/5] END criterion=entropy, max_depth=20, max_features=auto, n_estimators=100;, score=0.998 total time=   1.1s\n",
      "[CV 4/5] END criterion=entropy, max_depth=20, max_features=auto, n_estimators=100;, score=0.995 total time=   1.1s\n",
      "[CV 5/5] END criterion=entropy, max_depth=20, max_features=auto, n_estimators=100;, score=0.995 total time=   1.1s\n"
     ]
    },
    {
     "name": "stdout",
     "output_type": "stream",
     "text": [
      "[CV 1/5] END criterion=entropy, max_depth=20, max_features=auto, n_estimators=200;, score=0.996 total time=   2.1s\n",
      "[CV 2/5] END criterion=entropy, max_depth=20, max_features=auto, n_estimators=200;, score=0.996 total time=   2.2s\n",
      "[CV 3/5] END criterion=entropy, max_depth=20, max_features=auto, n_estimators=200;, score=0.997 total time=   2.3s\n",
      "[CV 4/5] END criterion=entropy, max_depth=20, max_features=auto, n_estimators=200;, score=0.995 total time=   2.1s\n",
      "[CV 5/5] END criterion=entropy, max_depth=20, max_features=auto, n_estimators=200;, score=0.994 total time=   2.1s\n",
      "[CV 1/5] END criterion=entropy, max_depth=20, max_features=auto, n_estimators=500;, score=0.995 total time=   5.6s\n",
      "[CV 2/5] END criterion=entropy, max_depth=20, max_features=auto, n_estimators=500;, score=0.997 total time=   5.6s\n",
      "[CV 3/5] END criterion=entropy, max_depth=20, max_features=auto, n_estimators=500;, score=0.998 total time=   5.6s\n",
      "[CV 4/5] END criterion=entropy, max_depth=20, max_features=auto, n_estimators=500;, score=0.995 total time=   5.5s\n",
      "[CV 5/5] END criterion=entropy, max_depth=20, max_features=auto, n_estimators=500;, score=0.995 total time=   5.7s\n",
      "[CV 1/5] END criterion=entropy, max_depth=20, max_features=sqrt, n_estimators=100;, score=0.996 total time=   1.0s\n",
      "[CV 2/5] END criterion=entropy, max_depth=20, max_features=sqrt, n_estimators=100;, score=0.996 total time=   1.0s\n",
      "[CV 3/5] END criterion=entropy, max_depth=20, max_features=sqrt, n_estimators=100;, score=0.998 total time=   1.0s\n",
      "[CV 4/5] END criterion=entropy, max_depth=20, max_features=sqrt, n_estimators=100;, score=0.996 total time=   1.0s\n",
      "[CV 5/5] END criterion=entropy, max_depth=20, max_features=sqrt, n_estimators=100;, score=0.994 total time=   1.0s\n",
      "[CV 1/5] END criterion=entropy, max_depth=20, max_features=sqrt, n_estimators=200;, score=0.996 total time=   2.2s\n",
      "[CV 2/5] END criterion=entropy, max_depth=20, max_features=sqrt, n_estimators=200;, score=0.996 total time=   2.1s\n",
      "[CV 3/5] END criterion=entropy, max_depth=20, max_features=sqrt, n_estimators=200;, score=0.999 total time=   2.2s\n",
      "[CV 4/5] END criterion=entropy, max_depth=20, max_features=sqrt, n_estimators=200;, score=0.995 total time=   2.1s\n",
      "[CV 5/5] END criterion=entropy, max_depth=20, max_features=sqrt, n_estimators=200;, score=0.994 total time=   2.1s\n",
      "[CV 1/5] END criterion=entropy, max_depth=20, max_features=sqrt, n_estimators=500;, score=0.996 total time=   5.5s\n",
      "[CV 2/5] END criterion=entropy, max_depth=20, max_features=sqrt, n_estimators=500;, score=0.998 total time=   5.5s\n",
      "[CV 3/5] END criterion=entropy, max_depth=20, max_features=sqrt, n_estimators=500;, score=0.998 total time=   5.6s\n",
      "[CV 4/5] END criterion=entropy, max_depth=20, max_features=sqrt, n_estimators=500;, score=0.996 total time=   5.5s\n",
      "[CV 5/5] END criterion=entropy, max_depth=20, max_features=sqrt, n_estimators=500;, score=0.994 total time=   5.6s\n",
      "[CV 1/5] END criterion=entropy, max_depth=20, max_features=log2, n_estimators=100;, score=0.996 total time=   1.0s\n",
      "[CV 2/5] END criterion=entropy, max_depth=20, max_features=log2, n_estimators=100;, score=0.997 total time=   1.0s\n",
      "[CV 3/5] END criterion=entropy, max_depth=20, max_features=log2, n_estimators=100;, score=0.999 total time=   1.0s\n",
      "[CV 4/5] END criterion=entropy, max_depth=20, max_features=log2, n_estimators=100;, score=0.996 total time=   1.0s\n",
      "[CV 5/5] END criterion=entropy, max_depth=20, max_features=log2, n_estimators=100;, score=0.994 total time=   1.0s\n",
      "[CV 1/5] END criterion=entropy, max_depth=20, max_features=log2, n_estimators=200;, score=0.996 total time=   2.1s\n",
      "[CV 2/5] END criterion=entropy, max_depth=20, max_features=log2, n_estimators=200;, score=0.997 total time=   2.3s\n",
      "[CV 3/5] END criterion=entropy, max_depth=20, max_features=log2, n_estimators=200;, score=0.998 total time=   2.2s\n",
      "[CV 4/5] END criterion=entropy, max_depth=20, max_features=log2, n_estimators=200;, score=0.996 total time=   2.0s\n",
      "[CV 5/5] END criterion=entropy, max_depth=20, max_features=log2, n_estimators=200;, score=0.994 total time=   2.2s\n",
      "[CV 1/5] END criterion=entropy, max_depth=20, max_features=log2, n_estimators=500;, score=0.996 total time=   5.5s\n",
      "[CV 2/5] END criterion=entropy, max_depth=20, max_features=log2, n_estimators=500;, score=0.997 total time=   5.7s\n",
      "[CV 3/5] END criterion=entropy, max_depth=20, max_features=log2, n_estimators=500;, score=0.998 total time=   5.5s\n",
      "[CV 4/5] END criterion=entropy, max_depth=20, max_features=log2, n_estimators=500;, score=0.995 total time=   5.3s\n",
      "[CV 5/5] END criterion=entropy, max_depth=20, max_features=log2, n_estimators=500;, score=0.994 total time=   5.7s\n",
      "[CV 1/5] END criterion=entropy, max_depth=25, max_features=auto, n_estimators=100;, score=0.996 total time=   1.0s\n",
      "[CV 2/5] END criterion=entropy, max_depth=25, max_features=auto, n_estimators=100;, score=0.997 total time=   1.0s\n",
      "[CV 3/5] END criterion=entropy, max_depth=25, max_features=auto, n_estimators=100;, score=0.998 total time=   1.1s\n",
      "[CV 4/5] END criterion=entropy, max_depth=25, max_features=auto, n_estimators=100;, score=0.996 total time=   1.1s\n",
      "[CV 5/5] END criterion=entropy, max_depth=25, max_features=auto, n_estimators=100;, score=0.994 total time=   1.0s\n",
      "[CV 1/5] END criterion=entropy, max_depth=25, max_features=auto, n_estimators=200;, score=0.995 total time=   2.1s\n",
      "[CV 2/5] END criterion=entropy, max_depth=25, max_features=auto, n_estimators=200;, score=0.996 total time=   2.1s\n",
      "[CV 3/5] END criterion=entropy, max_depth=25, max_features=auto, n_estimators=200;, score=0.998 total time=   2.3s\n",
      "[CV 4/5] END criterion=entropy, max_depth=25, max_features=auto, n_estimators=200;, score=0.995 total time=   2.2s\n",
      "[CV 5/5] END criterion=entropy, max_depth=25, max_features=auto, n_estimators=200;, score=0.995 total time=   2.2s\n",
      "[CV 1/5] END criterion=entropy, max_depth=25, max_features=auto, n_estimators=500;, score=0.996 total time=   5.4s\n",
      "[CV 2/5] END criterion=entropy, max_depth=25, max_features=auto, n_estimators=500;, score=0.997 total time=   5.6s\n",
      "[CV 3/5] END criterion=entropy, max_depth=25, max_features=auto, n_estimators=500;, score=0.998 total time=   5.6s\n",
      "[CV 4/5] END criterion=entropy, max_depth=25, max_features=auto, n_estimators=500;, score=0.996 total time=   5.4s\n",
      "[CV 5/5] END criterion=entropy, max_depth=25, max_features=auto, n_estimators=500;, score=0.994 total time=   5.7s\n",
      "[CV 1/5] END criterion=entropy, max_depth=25, max_features=sqrt, n_estimators=100;, score=0.997 total time=   1.0s\n",
      "[CV 2/5] END criterion=entropy, max_depth=25, max_features=sqrt, n_estimators=100;, score=0.996 total time=   1.0s\n",
      "[CV 3/5] END criterion=entropy, max_depth=25, max_features=sqrt, n_estimators=100;, score=0.998 total time=   1.0s\n",
      "[CV 4/5] END criterion=entropy, max_depth=25, max_features=sqrt, n_estimators=100;, score=0.995 total time=   1.0s\n",
      "[CV 5/5] END criterion=entropy, max_depth=25, max_features=sqrt, n_estimators=100;, score=0.994 total time=   1.1s\n",
      "[CV 1/5] END criterion=entropy, max_depth=25, max_features=sqrt, n_estimators=200;, score=0.996 total time=   2.1s\n",
      "[CV 2/5] END criterion=entropy, max_depth=25, max_features=sqrt, n_estimators=200;, score=0.997 total time=   2.1s\n",
      "[CV 3/5] END criterion=entropy, max_depth=25, max_features=sqrt, n_estimators=200;, score=0.998 total time=   2.2s\n",
      "[CV 4/5] END criterion=entropy, max_depth=25, max_features=sqrt, n_estimators=200;, score=0.996 total time=   2.1s\n",
      "[CV 5/5] END criterion=entropy, max_depth=25, max_features=sqrt, n_estimators=200;, score=0.995 total time=   2.2s\n",
      "[CV 1/5] END criterion=entropy, max_depth=25, max_features=sqrt, n_estimators=500;, score=0.996 total time=   5.5s\n",
      "[CV 2/5] END criterion=entropy, max_depth=25, max_features=sqrt, n_estimators=500;, score=0.996 total time=   5.6s\n",
      "[CV 3/5] END criterion=entropy, max_depth=25, max_features=sqrt, n_estimators=500;, score=0.998 total time=   5.7s\n",
      "[CV 4/5] END criterion=entropy, max_depth=25, max_features=sqrt, n_estimators=500;, score=0.996 total time=   5.4s\n",
      "[CV 5/5] END criterion=entropy, max_depth=25, max_features=sqrt, n_estimators=500;, score=0.994 total time=   5.6s\n",
      "[CV 1/5] END criterion=entropy, max_depth=25, max_features=log2, n_estimators=100;, score=0.996 total time=   1.2s\n",
      "[CV 2/5] END criterion=entropy, max_depth=25, max_features=log2, n_estimators=100;, score=0.996 total time=   1.1s\n"
     ]
    },
    {
     "name": "stdout",
     "output_type": "stream",
     "text": [
      "[CV 3/5] END criterion=entropy, max_depth=25, max_features=log2, n_estimators=100;, score=0.996 total time=   1.0s\n",
      "[CV 4/5] END criterion=entropy, max_depth=25, max_features=log2, n_estimators=100;, score=0.995 total time=   1.0s\n",
      "[CV 5/5] END criterion=entropy, max_depth=25, max_features=log2, n_estimators=100;, score=0.994 total time=   1.0s\n",
      "[CV 1/5] END criterion=entropy, max_depth=25, max_features=log2, n_estimators=200;, score=0.996 total time=   2.1s\n",
      "[CV 2/5] END criterion=entropy, max_depth=25, max_features=log2, n_estimators=200;, score=0.997 total time=   2.1s\n",
      "[CV 3/5] END criterion=entropy, max_depth=25, max_features=log2, n_estimators=200;, score=0.999 total time=   2.2s\n",
      "[CV 4/5] END criterion=entropy, max_depth=25, max_features=log2, n_estimators=200;, score=0.996 total time=   2.1s\n",
      "[CV 5/5] END criterion=entropy, max_depth=25, max_features=log2, n_estimators=200;, score=0.994 total time=   2.2s\n",
      "[CV 1/5] END criterion=entropy, max_depth=25, max_features=log2, n_estimators=500;, score=0.996 total time=   5.5s\n",
      "[CV 2/5] END criterion=entropy, max_depth=25, max_features=log2, n_estimators=500;, score=0.997 total time=   5.5s\n",
      "[CV 3/5] END criterion=entropy, max_depth=25, max_features=log2, n_estimators=500;, score=0.998 total time=   5.8s\n",
      "[CV 4/5] END criterion=entropy, max_depth=25, max_features=log2, n_estimators=500;, score=0.996 total time=   5.3s\n",
      "[CV 5/5] END criterion=entropy, max_depth=25, max_features=log2, n_estimators=500;, score=0.995 total time=   5.6s\n"
     ]
    },
    {
     "data": {
      "text/plain": [
       "{'criterion': 'gini',\n",
       " 'max_depth': 15,\n",
       " 'max_features': 'log2',\n",
       " 'n_estimators': 200}"
      ]
     },
     "execution_count": 24,
     "metadata": {},
     "output_type": "execute_result"
    }
   ],
   "source": [
    "rfc = RandomForestClassifier()\n",
    "\n",
    "param_grid = { \n",
    "    'n_estimators': [100, 200, 500],\n",
    "    'max_features': ['auto', 'sqrt', 'log2'],\n",
    "    'max_depth' : [5,10,15,20,25],\n",
    "    'criterion' :['gini', 'entropy']\n",
    "}\n",
    "\n",
    "CV_rfc = GridSearchCV(estimator=rfc, param_grid=param_grid, cv= 5, verbose=3)\n",
    "CV_rfc.fit(X_train, y_train)\n",
    "CV_rfc.best_params_"
   ]
  },
  {
   "cell_type": "markdown",
   "metadata": {
    "cell_id": "00031-20d012f3-4f7d-46c7-b2c4-b3436e973e7f",
    "deepnote_cell_height": 74.796875,
    "deepnote_cell_type": "markdown",
    "tags": []
   },
   "source": [
    "Using \"GridSearchCV.predict\" directly will yield the same results as getting the best hyper-parameter through \"GridSearchCV.best_param_\" and then using it in the random forest classifier"
   ]
  },
  {
   "cell_type": "code",
   "execution_count": 25,
   "metadata": {
    "cell_id": "00032-999905b6-965d-41d1-be72-71ebd5583ec0",
    "deepnote_cell_height": 81,
    "deepnote_cell_type": "code",
    "deepnote_to_be_reexecuted": false,
    "execution_millis": 23,
    "execution_start": 1658245473549,
    "source_hash": "912caeda",
    "tags": []
   },
   "outputs": [],
   "source": [
    "y_pred=CV_rfc.predict(X_test)"
   ]
  },
  {
   "cell_type": "code",
   "execution_count": 26,
   "metadata": {
    "cell_id": "00033-f954f4d7-3b19-473b-b691-c5dcc675f247",
    "deepnote_cell_height": 832.1875,
    "deepnote_cell_type": "code",
    "deepnote_output_heights": [
     21.1875,
     611
    ],
    "deepnote_to_be_reexecuted": false,
    "execution_millis": 207,
    "execution_start": 1658245473616,
    "source_hash": "ce3a734c",
    "tags": []
   },
   "outputs": [
    {
     "data": {
      "text/plain": [
       "<BarContainer object of 7 artists>"
      ]
     },
     "execution_count": 26,
     "metadata": {},
     "output_type": "execute_result"
    },
    {
     "data": {
      "image/png": "[encoded data removed]",
      "text/plain": [
       "<Figure size 576x864 with 1 Axes>"
      ]
     },
     "metadata": {
      "needs_background": "light"
     },
     "output_type": "display_data"
    }
   ],
   "source": [
    "feat_imp_df = pd.DataFrame({\"Feature\":X.columns, \"Importance\": CV_rfc.best_estimator_.feature_importances_})\n",
    "feat_imp_df_desc= feat_imp_df.sort_values(\"Importance\",ascending=True)\n",
    "plt.figure(figsize=(8, 12))\n",
    "plt.grid()\n",
    "plt.barh(\"Feature\",\"Importance\", data=feat_imp_df_desc, height=0.3)"
   ]
  },
  {
   "cell_type": "code",
   "execution_count": 27,
   "metadata": {
    "cell_id": "00034-4699d53b-58de-4bcc-b6c9-cf3a5c611ea1",
    "deepnote_cell_height": 348,
    "deepnote_cell_type": "code",
    "deepnote_output_heights": [
     233
    ],
    "deepnote_to_be_reexecuted": false,
    "execution_millis": 1843,
    "execution_start": 1658245473829,
    "source_hash": "6a584515",
    "tags": []
   },
   "outputs": [
    {
     "data": {
      "image/png": "[encoded data removed]",
      "text/plain": [
       "<Figure size 432x288 with 1 Axes>"
      ]
     },
     "metadata": {
      "needs_background": "light"
     },
     "output_type": "display_data"
    }
   ],
   "source": [
    "plot_tree(CV_rfc.best_estimator_.estimators_[0])\n",
    "plt.show()"
   ]
  },
  {
   "cell_type": "code",
   "execution_count": 28,
   "metadata": {
    "cell_id": "00035-afeaf31f-3368-4034-b94d-9b112be876c1",
    "deepnote_cell_height": 112,
    "deepnote_cell_type": "code",
    "deepnote_to_be_reexecuted": false,
    "execution_millis": 775,
    "execution_start": 1658245474912,
    "source_hash": "75fdc7de",
    "tags": []
   },
   "outputs": [
    {
     "name": "stdout",
     "output_type": "stream",
     "text": [
      "Accuracy: 0.9970559371933267\n"
     ]
    }
   ],
   "source": [
    "print(\"Accuracy:\", accuracy_score(y_test, y_pred))"
   ]
  },
  {
   "cell_type": "code",
   "execution_count": 29,
   "metadata": {
    "cell_id": "00036-95339b21-f1e7-4751-be4d-b918ac5516f1",
    "deepnote_cell_height": 272,
    "deepnote_cell_type": "code",
    "deepnote_to_be_reexecuted": false,
    "execution_millis": 763,
    "execution_start": 1658245474946,
    "source_hash": "13ae2281",
    "tags": []
   },
   "outputs": [
    {
     "name": "stdout",
     "output_type": "stream",
     "text": [
      "              precision    recall  f1-score   support\n",
      "\n",
      "           0       1.00      1.00      1.00      3657\n",
      "           1       1.00      1.00      1.00      2457\n",
      "\n",
      "    accuracy                           1.00      6114\n",
      "   macro avg       1.00      1.00      1.00      6114\n",
      "weighted avg       1.00      1.00      1.00      6114\n",
      "\n"
     ]
    }
   ],
   "source": [
    "print(classification_report(y_test, y_pred))"
   ]
  },
  {
   "cell_type": "code",
   "execution_count": 30,
   "metadata": {
    "cell_id": "00037-518de16c-e8c5-4a0f-9074-14b1a141a601",
    "deepnote_cell_height": 168,
    "deepnote_cell_type": "code",
    "deepnote_to_be_reexecuted": false,
    "execution_millis": 762,
    "execution_start": 1658245474947,
    "source_hash": "2470faf3",
    "tags": []
   },
   "outputs": [
    {
     "name": "stdout",
     "output_type": "stream",
     "text": [
      "[[3645   12]\n",
      " [   6 2451]]\n"
     ]
    }
   ],
   "source": [
    "#CONFUSION MATRIX \n",
    "cf_matrix = confusion_matrix(y_test, y_pred)\n",
    "print(cf_matrix)"
   ]
  },
  {
   "cell_type": "markdown",
   "metadata": {
    "cell_id": "00038-f5588455-32c2-4135-b3bd-22c240e1c635",
    "deepnote_cell_height": 130.796875,
    "deepnote_cell_type": "markdown",
    "tags": []
   },
   "source": [
    "## XGBoost model\n",
    "First of all, we convert the dataframes X and Y into an optimized data structure called Dmatrix that XGBoost supports, granting best performances (it improves both memory efficiency and training speed)."
   ]
  },
  {
   "cell_type": "code",
   "execution_count": 31,
   "metadata": {
    "cell_id": "00039-f26e6562-c8fd-4749-9376-9f2130f7c095",
    "deepnote_cell_height": 81,
    "deepnote_cell_type": "code",
    "deepnote_to_be_reexecuted": false,
    "execution_millis": 1,
    "execution_start": 1658245474947,
    "source_hash": "ccc212ad",
    "tags": []
   },
   "outputs": [],
   "source": [
    "data_dmatrix = xgb.DMatrix(data=X,label=y) "
   ]
  },
  {
   "cell_type": "code",
   "execution_count": 32,
   "metadata": {
    "cell_id": "00040-1a3f89f1-b3f1-4a6a-a198-4650d658072c",
    "deepnote_cell_height": 81,
    "deepnote_cell_type": "code",
    "deepnote_to_be_reexecuted": false,
    "execution_millis": 1,
    "execution_start": 1658245474949,
    "source_hash": "e1accaf7",
    "tags": []
   },
   "outputs": [],
   "source": [
    "parameters = { 'colsample_bytree': [0.1,0.3,0.5,0.8,1],'learning_rate': [0.01,0.1,0.6,0.8,1], 'max_depth': [1,3,5,8,10], 'reg_alpha':[0] }"
   ]
  },
  {
   "cell_type": "code",
   "execution_count": 33,
   "metadata": {
    "cell_id": "00041-b3d2d59c-788d-4e41-a321-a04f4ebe1e40",
    "deepnote_cell_height": 470.375,
    "deepnote_cell_type": "code",
    "deepnote_output_heights": [
     null,
     93.390625
    ],
    "deepnote_to_be_reexecuted": false,
    "execution_millis": 70564,
    "execution_start": 1658245474952,
    "source_hash": "15a20924",
    "tags": []
   },
   "outputs": [
    {
     "name": "stdout",
     "output_type": "stream",
     "text": [
      "Fitting 5 folds for each of 125 candidates, totalling 625 fits\n",
      "[22:38:03] WARNING: C:/Users/Administrator/workspace/xgboost-win64_release_1.5.1/src/learner.cc:1115: Starting in XGBoost 1.3.0, the default evaluation metric used with the objective 'binary:logistic' was changed from 'error' to 'logloss'. Explicitly set eval_metric if you'd like to restore the old behavior.\n"
     ]
    },
    {
     "data": {
      "text/plain": [
       "GridSearchCV(cv=5,\n",
       "             estimator=XGBClassifier(base_score=None, booster=None,\n",
       "                                     colsample_bylevel=None,\n",
       "                                     colsample_bynode=None,\n",
       "                                     colsample_bytree=0.8,\n",
       "                                     enable_categorical=False, gamma=None,\n",
       "                                     gpu_id=None, importance_type=None,\n",
       "                                     interaction_constraints=None,\n",
       "                                     learning_rate=1, max_delta_step=None,\n",
       "                                     max_depth=1, min_child_weight=None,\n",
       "                                     missing=nan, monotone_constraints=None,\n",
       "                                     n_estim...,\n",
       "                                     num_parallel_tree=None, predictor=None,\n",
       "                                     random_state=None, reg_alpha=0,\n",
       "                                     reg_lambda=None, scale_pos_weight=None,\n",
       "                                     subsample=None, tree_method=None,\n",
       "                                     validate_parameters=None, verbosity=None),\n",
       "             n_jobs=5,\n",
       "             param_grid={'colsample_bytree': [0.1, 0.3, 0.5, 0.8, 1],\n",
       "                         'learning_rate': [0.01, 0.1, 0.6, 0.8, 1],\n",
       "                         'max_depth': [1, 3, 5, 8, 10], 'reg_alpha': [0]},\n",
       "             scoring='roc_auc', verbose=True)"
      ]
     },
     "execution_count": 33,
     "metadata": {},
     "output_type": "execute_result"
    }
   ],
   "source": [
    "estimator = xgb.XGBClassifier(colsample_bytree = 0.8, learning_rate = 1,\n",
    "                max_depth = 1, reg_alpha=0 , n_estimators = 50)\n",
    "                # n_estimators = 50 means 50 trees\n",
    "\n",
    "grid_search = GridSearchCV(\n",
    "    estimator=estimator,\n",
    "    param_grid=parameters,\n",
    "    scoring = 'roc_auc',\n",
    "    n_jobs = 5,\n",
    "    cv = 5,\n",
    "    verbose=True\n",
    ")\n",
    "\n",
    "grid_search.fit(X_train,y_train)"
   ]
  },
  {
   "cell_type": "code",
   "execution_count": 34,
   "metadata": {
    "cell_id": "00042-b00194ad-74c0-4a1c-a5b5-d03682e94215",
    "deepnote_cell_height": 117,
    "deepnote_cell_type": "code",
    "deepnote_to_be_reexecuted": false,
    "execution_millis": 0,
    "execution_start": 1658245545497,
    "source_hash": "fc73857a",
    "tags": []
   },
   "outputs": [],
   "source": [
    "#Fit the regressor to the training set and make predictions on the test set using the familiar .fit() and .predict() methods\n",
    "\n",
    "preds_2 = grid_search.predict(X_test)"
   ]
  },
  {
   "cell_type": "code",
   "execution_count": 35,
   "metadata": {
    "cell_id": "00043-35b7a3ce-f565-4233-99f7-821909430895",
    "deepnote_cell_height": 330.1875,
    "deepnote_cell_type": "code",
    "deepnote_output_heights": [
     233.1875
    ],
    "deepnote_to_be_reexecuted": false,
    "execution_millis": 18,
    "execution_start": 1658245545498,
    "source_hash": "f753b60c",
    "tags": []
   },
   "outputs": [
    {
     "data": {
      "text/plain": [
       "XGBClassifier(base_score=0.5, booster='gbtree', colsample_bylevel=1,\n",
       "              colsample_bynode=1, colsample_bytree=0.8,\n",
       "              enable_categorical=False, gamma=0, gpu_id=-1,\n",
       "              importance_type=None, interaction_constraints='',\n",
       "              learning_rate=0.1, max_delta_step=0, max_depth=10,\n",
       "              min_child_weight=1, missing=nan, monotone_constraints='()',\n",
       "              n_estimators=50, n_jobs=8, num_parallel_tree=1, predictor='auto',\n",
       "              random_state=0, reg_alpha=0, reg_lambda=1, scale_pos_weight=1,\n",
       "              subsample=1, tree_method='exact', validate_parameters=1,\n",
       "              verbosity=None)"
      ]
     },
     "execution_count": 35,
     "metadata": {},
     "output_type": "execute_result"
    }
   ],
   "source": [
    "grid_search.best_estimator_"
   ]
  },
  {
   "cell_type": "code",
   "execution_count": 36,
   "metadata": {
    "cell_id": "00044-631e31a9-bd14-4231-b4c1-ee257996701e",
    "deepnote_cell_height": 483.1875,
    "deepnote_cell_type": "code",
    "deepnote_output_heights": [
     21.1875,
     280
    ],
    "deepnote_to_be_reexecuted": false,
    "execution_millis": 65,
    "execution_start": 1658245545498,
    "source_hash": "ea845bc0",
    "tags": []
   },
   "outputs": [
    {
     "data": {
      "text/plain": [
       "<Figure size 576x864 with 0 Axes>"
      ]
     },
     "metadata": {},
     "output_type": "display_data"
    },
    {
     "data": {
      "image/png": "[encoded data removed]",
      "text/plain": [
       "<Figure size 432x288 with 1 Axes>"
      ]
     },
     "metadata": {
      "needs_background": "light"
     },
     "output_type": "display_data"
    }
   ],
   "source": [
    "plt.figure(figsize=(8, 12))\n",
    "xgb.plot_importance(grid_search.best_estimator_)\n",
    "plt.rcParams['figure.figsize'] = [8, 12]\n",
    "plt.show()"
   ]
  },
  {
   "cell_type": "code",
   "execution_count": 37,
   "metadata": {
    "cell_id": "00045-dd3c4e34-a68f-4d57-aa14-45524a0ea501",
    "deepnote_cell_height": 323,
    "deepnote_cell_type": "code",
    "deepnote_output_heights": [
     154
    ],
    "deepnote_to_be_reexecuted": false,
    "execution_millis": 378,
    "execution_start": 1658245545559,
    "source_hash": "cd08c4f7",
    "tags": []
   },
   "outputs": [
    {
     "data": {
      "image/png": "[encoded data removed]",
      "text/plain": [
       "<Figure size 576x864 with 1 Axes>"
      ]
     },
     "metadata": {
      "needs_background": "light"
     },
     "output_type": "display_data"
    }
   ],
   "source": [
    "#fig, tree = plt.subplots(figsize=(30, 30))\n",
    "xgb_train = xgb.train(params=grid_search.best_params_, dtrain=data_dmatrix, num_boost_round=20)\n",
    "xgb.plot_tree(xgb_train, num_trees=0)\n",
    "#plt.rcParams['figure.figsize'] = [200, 200]\n",
    "plt.show()"
   ]
  },
  {
   "cell_type": "code",
   "execution_count": 38,
   "metadata": {
    "cell_id": "00046-7dca60dc-d063-418a-97c5-df7969e47a80",
    "deepnote_cell_height": 206,
    "deepnote_cell_type": "code",
    "deepnote_output_heights": [
     91
    ],
    "deepnote_to_be_reexecuted": false,
    "execution_millis": 456,
    "execution_start": 1658245545940,
    "source_hash": "2a908822",
    "tags": []
   },
   "outputs": [
    {
     "name": "stderr",
     "output_type": "stream",
     "text": [
      "dot: graph is too large for cairo-renderer bitmaps. Scaling by 0.984822 to fit\r\n"
     ]
    },
    {
     "data": {
      "image/png": "[encoded data removed]",
      "text/plain": [
       "<Figure size 576x864 with 1 Axes>"
      ]
     },
     "metadata": {
      "needs_background": "light"
     },
     "output_type": "display_data"
    }
   ],
   "source": [
    "xgb.plot_tree(xgb_train, num_trees=1)\n",
    "plt.show()"
   ]
  },
  {
   "cell_type": "code",
   "execution_count": 39,
   "metadata": {
    "cell_id": "00047-dced3704-7910-46ce-b8e2-5edd67eb1bda",
    "deepnote_cell_height": 204,
    "deepnote_cell_type": "code",
    "deepnote_output_heights": [
     89
    ],
    "deepnote_to_be_reexecuted": false,
    "execution_millis": 563,
    "execution_start": 1658245546407,
    "source_hash": "e67ff37b",
    "tags": []
   },
   "outputs": [
    {
     "data": {
      "image/png": "[encoded data removed]",
      "text/plain": [
       "<Figure size 576x864 with 1 Axes>"
      ]
     },
     "metadata": {
      "needs_background": "light"
     },
     "output_type": "display_data"
    }
   ],
   "source": [
    "xgb.plot_tree(xgb_train, num_trees=2)\n",
    "plt.show()"
   ]
  },
  {
   "cell_type": "code",
   "execution_count": 40,
   "metadata": {
    "cell_id": "00048-700b42fb-9276-47d3-a172-b49f2ccbd947",
    "deepnote_cell_height": 242,
    "deepnote_cell_type": "code",
    "deepnote_output_heights": [
     127
    ],
    "deepnote_to_be_reexecuted": false,
    "execution_millis": 1080,
    "execution_start": 1658245546999,
    "source_hash": "c951c426",
    "tags": []
   },
   "outputs": [
    {
     "data": {
      "image/png": "[encoded data removed]",
      "text/plain": [
       "<Figure size 576x864 with 1 Axes>"
      ]
     },
     "metadata": {
      "needs_background": "light"
     },
     "output_type": "display_data"
    }
   ],
   "source": [
    "xgb.plot_tree(xgb_train, num_trees=3)\n",
    "plt.show()"
   ]
  },
  {
   "cell_type": "code",
   "execution_count": 41,
   "metadata": {
    "cell_id": "00049-b80ada1f-9c09-444e-b3e2-3ed56ab2304c",
    "deepnote_cell_height": 272,
    "deepnote_cell_type": "code",
    "deepnote_to_be_reexecuted": false,
    "execution_millis": 573,
    "execution_start": 1658245547510,
    "source_hash": "9322635e",
    "tags": []
   },
   "outputs": [
    {
     "name": "stdout",
     "output_type": "stream",
     "text": [
      "              precision    recall  f1-score   support\n",
      "\n",
      "           0       1.00      1.00      1.00      3657\n",
      "           1       1.00      1.00      1.00      2457\n",
      "\n",
      "    accuracy                           1.00      6114\n",
      "   macro avg       1.00      1.00      1.00      6114\n",
      "weighted avg       1.00      1.00      1.00      6114\n",
      "\n"
     ]
    }
   ],
   "source": [
    "print(classification_report(y_test, preds_2))"
   ]
  },
  {
   "cell_type": "code",
   "execution_count": 42,
   "metadata": {
    "cell_id": "00050-c86f4333-694d-4a30-9969-5b3b8bef5df1",
    "deepnote_cell_height": 168,
    "deepnote_cell_type": "code",
    "deepnote_to_be_reexecuted": false,
    "execution_millis": 534,
    "execution_start": 1658245547552,
    "source_hash": "22a40289",
    "tags": []
   },
   "outputs": [
    {
     "name": "stdout",
     "output_type": "stream",
     "text": [
      "[[3645   12]\n",
      " [  10 2447]]\n"
     ]
    }
   ],
   "source": [
    "#CONFUSION MATRIX \n",
    "cf_matrix_2 = confusion_matrix(y_test, preds_2)\n",
    "print(cf_matrix_2)"
   ]
  },
  {
   "cell_type": "markdown",
   "metadata": {
    "cell_id": "00051-806469d5-a2f6-4106-962d-17804dd38176",
    "deepnote_cell_height": 153.1875,
    "deepnote_cell_type": "markdown",
    "tags": []
   },
   "source": [
    "## RESULTS COMPARISON\n",
    "Direct comparison between confusion matrices, accuracies, precisions, recalls and f1 scores from the random forest and from the XGBoost model. <br> \n",
    "The following function takes a confusion matrix as an argument and pretty prints all the results mentioned above."
   ]
  },
  {
   "cell_type": "code",
   "execution_count": 43,
   "metadata": {
    "cell_id": "00052-b433eb3a-df76-4862-a625-45c8d81e022c",
    "deepnote_cell_height": 1431,
    "deepnote_cell_type": "code",
    "deepnote_to_be_reexecuted": false,
    "execution_millis": 18,
    "execution_start": 1658245547572,
    "is_code_hidden": false,
    "source_hash": "d5878cc6",
    "tags": []
   },
   "outputs": [],
   "source": [
    "def make_confusion_matrix(cf,\n",
    "                          group_names=None,\n",
    "                          categories='auto',\n",
    "                          count=True,\n",
    "                          percent=True,\n",
    "                          cbar=True,\n",
    "                          xyticks=True,\n",
    "                          xyplotlabels=True,\n",
    "                          sum_stats=True,\n",
    "                          figsize=(8,8),\n",
    "                          cmap='Blues',\n",
    "                          title=None):\n",
    "   \n",
    "    # CODE TO GENERATE TEXT INSIDE EACH SQUARE\n",
    "    blanks = ['' for i in range(cf.size)]\n",
    "\n",
    "    if group_names and len(group_names)==cf.size:\n",
    "        group_labels = [\"{}\\n\".format(value) for value in group_names]\n",
    "    else:\n",
    "        group_labels = blanks\n",
    "\n",
    "    if count:\n",
    "        group_counts = [\"{0:0.0f}\\n\".format(value) for value in cf.flatten()]\n",
    "    else:\n",
    "        group_counts = blanks\n",
    "\n",
    "    if percent:\n",
    "        group_percentages = [\"{0:.2%}\".format(value) for value in cf.flatten()/np.sum(cf)]\n",
    "    else:\n",
    "        group_percentages = blanks\n",
    "\n",
    "    box_labels = [f\"{v1}{v2}{v3}\".strip() for v1, v2, v3 in zip(group_labels,group_counts,group_percentages)]\n",
    "    box_labels = np.asarray(box_labels).reshape(cf.shape[0],cf.shape[1])\n",
    "\n",
    "\n",
    "    # CODE TO GENERATE SUMMARY STATISTICS & TEXT FOR SUMMARY STATS\n",
    "    if sum_stats:\n",
    "        #Accuracy is sum of diagonal divided by total observations\n",
    "        accuracy  = np.trace(cf) / float(np.sum(cf))\n",
    "\n",
    "        #if it is a binary confusion matrix, show some more stats\n",
    "        if len(cf)==2:\n",
    "            #Metrics for Binary Confusion Matrices\n",
    "            precision = cf[1,1] / sum(cf[:,1])\n",
    "            recall    = cf[1,1] / sum(cf[1,:])\n",
    "            f1_score  = 2*precision*recall / (precision + recall)\n",
    "            stats_text = \"\\n\\nAccuracy={:0.3f}\\nPrecision={:0.3f}\\nRecall={:0.3f}\\nF1 Score={:0.3f}\".format(\n",
    "                accuracy,precision,recall,f1_score)\n",
    "        else:\n",
    "            stats_text = \"\\n\\nAccuracy={:0.3f}\".format(accuracy)\n",
    "    else:\n",
    "        stats_text = \"\"\n",
    "\n",
    "\n",
    "    # SET FIGURE PARAMETERS ACCORDING TO OTHER ARGUMENTS\n",
    "    if figsize==None:\n",
    "        #Get default figure size if not set\n",
    "        figsize = plt.rcParams.get('figure.figsize')\n",
    "\n",
    "    if xyticks==False:\n",
    "        #Do not show categories if xyticks is False\n",
    "        categories=False\n",
    "\n",
    "\n",
    "    # MAKE THE HEATMAP VISUALIZATION\n",
    "    plt.figure(figsize=figsize)\n",
    "    sns.heatmap(cf,annot=box_labels,fmt=\"\",cmap=cmap,cbar=cbar,xticklabels=categories,yticklabels=categories)\n",
    "\n",
    "    if xyplotlabels:\n",
    "        plt.ylabel('True label')\n",
    "        plt.xlabel('Predicted label' + stats_text)\n",
    "    else:\n",
    "        plt.xlabel(stats_text)\n",
    "    \n",
    "    if title:\n",
    "        plt.title(title)"
   ]
  },
  {
   "cell_type": "code",
   "execution_count": 44,
   "metadata": {
    "cell_id": "00053-d902a86c-f895-4c91-87d7-29403064a13b",
    "deepnote_cell_height": 99,
    "deepnote_cell_type": "code",
    "deepnote_to_be_reexecuted": false,
    "execution_millis": 5,
    "execution_start": 1658245547592,
    "source_hash": "5227c02",
    "tags": []
   },
   "outputs": [],
   "source": [
    "group_names = ['True Neg','False Pos','False Neg', 'True Pos']\n",
    "categories = ['Zero', 'One']"
   ]
  },
  {
   "cell_type": "markdown",
   "metadata": {
    "cell_id": "00054-5d1761cd-8f36-47c2-9f8c-7b98c3d4904d",
    "deepnote_cell_height": 52.390625,
    "deepnote_cell_type": "markdown",
    "tags": []
   },
   "source": [
    "Pretty printing of the results for the random forest:"
   ]
  },
  {
   "cell_type": "code",
   "execution_count": 45,
   "metadata": {
    "cell_id": "00055-95774c0f-ac98-4df4-9dea-0b31ab513ce8",
    "deepnote_cell_height": 725,
    "deepnote_cell_type": "code",
    "deepnote_output_heights": [
     556
    ],
    "deepnote_to_be_reexecuted": false,
    "execution_millis": 492,
    "execution_start": 1658245547602,
    "source_hash": "4913a38c",
    "tags": []
   },
   "outputs": [
    {
     "data": {
      "image/png": "[encoded data removed]",
      "text/plain": [
       "<Figure size 576x576 with 2 Axes>"
      ]
     },
     "metadata": {
      "needs_background": "light"
     },
     "output_type": "display_data"
    }
   ],
   "source": [
    "make_confusion_matrix(cf_matrix,\n",
    "                      group_names=group_names,\n",
    "                      categories=categories, \n",
    "                      cmap='Blues',\n",
    "                      title=\"Random forest results summary\")"
   ]
  },
  {
   "cell_type": "markdown",
   "metadata": {
    "cell_id": "00056-d11caa4d-beaa-4428-833a-ad01ac2fcf8f",
    "deepnote_cell_height": 52.390625,
    "deepnote_cell_type": "markdown",
    "tags": []
   },
   "source": [
    "Pretty printing of the results for the XGBoost model:"
   ]
  },
  {
   "cell_type": "code",
   "execution_count": 46,
   "metadata": {
    "cell_id": "00057-7664778f-ec03-4736-96e9-2741b5caac30",
    "deepnote_cell_height": 725,
    "deepnote_cell_type": "code",
    "deepnote_output_heights": [
     556
    ],
    "deepnote_to_be_reexecuted": false,
    "execution_millis": 308,
    "execution_start": 1658245547937,
    "source_hash": "331ca34e",
    "tags": []
   },
   "outputs": [
    {
     "data": {
      "image/png": "[encoded data removed]",
      "text/plain": [
       "<Figure size 576x576 with 2 Axes>"
      ]
     },
     "metadata": {
      "needs_background": "light"
     },
     "output_type": "display_data"
    }
   ],
   "source": [
    "make_confusion_matrix(cf_matrix_2,\n",
    "                      group_names=group_names,\n",
    "                      categories=categories, \n",
    "                      cmap='Blues',\n",
    "                      title=\"XGBoost model results summary\")"
   ]
  },
  {
   "cell_type": "code",
   "execution_count": null,
   "metadata": {
    "cell_id": "00058-653a0f44-bbcd-4244-8d66-e27b10f1925f",
    "deepnote_cell_height": 81,
    "deepnote_cell_type": "code",
    "deepnote_to_be_reexecuted": false,
    "execution_millis": 3,
    "execution_start": 1658245548248,
    "source_hash": "b623e53d",
    "tags": []
   },
   "outputs": [],
   "source": []
  },
  {
   "cell_type": "markdown",
   "metadata": {
    "created_in_deepnote_cell": true,
    "deepnote_cell_type": "markdown",
    "tags": []
   },
   "source": [
    "<a style='text-decoration:none;line-height:16px;display:flex;color:#5B5B62;padding:10px;justify-content:end;' href='https://deepnote.com?utm_source=created-in-deepnote-cell&projectId=4e6d886b-e60a-4c5b-ad77-020e7f429015' target=\"_blank\">\n",
    "<img alt='Created in deepnote.com' style='display:inline;max-height:16px;margin:0px;margin-right:7.5px;' src='data:image/svg+xml;base64,PD94bWwgdmVyc2lvbj0iMS4wIiBlbmNvZGluZz0iVVRGLTgiPz4KPHN2ZyB3aWR0aD0iODBweCIgaGVpZ2h0PSI4MHB4IiB2aWV3Qm94PSIwIDAgODAgODAiIHZlcnNpb249IjEuMSIgeG1sbnM9Imh0dHA6Ly93d3cudzMub3JnLzIwMDAvc3ZnIiB4bWxuczp4bGluaz0iaHR0cDovL3d3dy53My5vcmcvMTk5OS94bGluayI+CiAgICA8IS0tIEdlbmVyYXRvcjogU2tldGNoIDU0LjEgKDc2NDkwKSAtIGh0dHBzOi8vc2tldGNoYXBwLmNvbSAtLT4KICAgIDx0aXRsZT5Hcm91cCAzPC90aXRsZT4KICAgIDxkZXNjPkNyZWF0ZWQgd2l0aCBTa2V0Y2guPC9kZXNjPgogICAgPGcgaWQ9IkxhbmRpbmciIHN0cm9rZT0ibm9uZSIgc3Ryb2tlLXdpZHRoPSIxIiBmaWxsPSJub25lIiBmaWxsLXJ1bGU9ImV2ZW5vZGQiPgogICAgICAgIDxnIGlkPSJBcnRib2FyZCIgdHJhbnNmb3JtPSJ0cmFuc2xhdGUoLTEyMzUuMDAwMDAwLCAtNzkuMDAwMDAwKSI+CiAgICAgICAgICAgIDxnIGlkPSJHcm91cC0zIiB0cmFuc2Zvcm09InRyYW5zbGF0ZSgxMjM1LjAwMDAwMCwgNzkuMDAwMDAwKSI+CiAgICAgICAgICAgICAgICA8cG9seWdvbiBpZD0iUGF0aC0yMCIgZmlsbD0iIzAyNjVCNCIgcG9pbnRzPSIyLjM3NjIzNzYyIDgwIDM4LjA0NzY2NjcgODAgNTcuODIxNzgyMiA3My44MDU3NTkyIDU3LjgyMTc4MjIgMzIuNzU5MjczOSAzOS4xNDAyMjc4IDMxLjY4MzE2ODMiPjwvcG9seWdvbj4KICAgICAgICAgICAgICAgIDxwYXRoIGQ9Ik0zNS4wMDc3MTgsODAgQzQyLjkwNjIwMDcsNzYuNDU0OTM1OCA0Ny41NjQ5MTY3LDcxLjU0MjI2NzEgNDguOTgzODY2LDY1LjI2MTk5MzkgQzUxLjExMjI4OTksNTUuODQxNTg0MiA0MS42NzcxNzk1LDQ5LjIxMjIyODQgMjUuNjIzOTg0Niw0OS4yMTIyMjg0IEMyNS40ODQ5Mjg5LDQ5LjEyNjg0NDggMjkuODI2MTI5Niw0My4yODM4MjQ4IDM4LjY0NzU4NjksMzEuNjgzMTY4MyBMNzIuODcxMjg3MSwzMi41NTQ0MjUgTDY1LjI4MDk3Myw2Ny42NzYzNDIxIEw1MS4xMTIyODk5LDc3LjM3NjE0NCBMMzUuMDA3NzE4LDgwIFoiIGlkPSJQYXRoLTIyIiBmaWxsPSIjMDAyODY4Ij48L3BhdGg+CiAgICAgICAgICAgICAgICA8cGF0aCBkPSJNMCwzNy43MzA0NDA1IEwyNy4xMTQ1MzcsMC4yNTcxMTE0MzYgQzYyLjM3MTUxMjMsLTEuOTkwNzE3MDEgODAsMTAuNTAwMzkyNyA4MCwzNy43MzA0NDA1IEM4MCw2NC45NjA0ODgyIDY0Ljc3NjUwMzgsNzkuMDUwMzQxNCAzNC4zMjk1MTEzLDgwIEM0Ny4wNTUzNDg5LDc3LjU2NzA4MDggNTMuNDE4MjY3Nyw3MC4zMTM2MTAzIDUzLjQxODI2NzcsNTguMjM5NTg4NSBDNTMuNDE4MjY3Nyw0MC4xMjg1NTU3IDM2LjMwMzk1NDQsMzcuNzMwNDQwNSAyNS4yMjc0MTcsMzcuNzMwNDQwNSBDMTcuODQzMDU4NiwzNy43MzA0NDA1IDkuNDMzOTE5NjYsMzcuNzMwNDQwNSAwLDM3LjczMDQ0MDUgWiIgaWQ9IlBhdGgtMTkiIGZpbGw9IiMzNzkzRUYiPjwvcGF0aD4KICAgICAgICAgICAgPC9nPgogICAgICAgIDwvZz4KICAgIDwvZz4KPC9zdmc+' > </img>\n",
    "Created in <span style='font-weight:600;margin-left:4px;'>Deepnote</span></a>"
   ]
  }
 ],
 "metadata": {
  "deepnote": {},
  "deepnote_execution_queue": [],
  "deepnote_notebook_id": "9157869d-b9da-4055-8364-5c6de68b52f1",
  "kernelspec": {
   "display_name": "Python 3 (ipykernel)",
   "language": "python",
   "name": "python3"
  },
  "language_info": {
   "codemirror_mode": {
    "name": "ipython",
    "version": 3
   },
   "file_extension": ".py",
   "mimetype": "text/x-python",
   "name": "python",
   "nbconvert_exporter": "python",
   "pygments_lexer": "ipython3",
   "version": "3.8.13"
  }
 },
 "nbformat": 4,
 "nbformat_minor": 2
}
